{
 "cells": [
  {
   "cell_type": "code",
   "execution_count": null,
   "metadata": {},
   "outputs": [],
   "source": [
    "import math\n",
    "\n",
    "#Initiate the class and add the attributes\n",
    "\n",
    "class Calculator:\n",
    "    def __init__(self, data):\n",
    "        self.data = data\n",
    "        self.update_stats()\n",
    "        \n",
    "    def update_stats(self):\n",
    "        self.lenght = len(self.data)\n",
    "        self.mean = self.__calc_mean()\n",
    "        self.median = self.__calc_median()\n",
    "        self.variance = self.__calc_var()\n",
    "        self.standev = self.__calc_std()\n",
    "        \n",
    "    def __calc_mean(self):    \n",
    "        mean = sum(self.data)/len(self.data)\n",
    "        return mean\n",
    "    \n",
    "    def __calc_median(self): \n",
    "        lenght_data = int(len(self.data)) #save the lenght \n",
    "        middle_1 = int(lenght_data/2 - 1)\n",
    "        middle_2 = int(lenght_data/2)\n",
    "\n",
    "        if lenght_data % 2 == 0: # check if the lenght is odd or even\n",
    "            median = (self.data[middle_1] + self.data[middle_2])/2\n",
    "        else:\n",
    "            median = self.data[middle_2]\n",
    "        return median\n",
    "    \n",
    "    def __calc_var(self):\n",
    "        return sum((x-self.mean)**2 for x in self.data)/(len(self.data)-1)\n",
    "\n",
    "    def __calc_std(self):\n",
    "        return math.sqrt(self.variance)\n",
    "    \n",
    "    #create methods \n",
    "        \n",
    "    def add_data(self, new_data):\n",
    "        self.data.extend(new_data)\n",
    "        self.update_stats()\n",
    "        \n",
    "    def remove_data(self, index):\n",
    "        self.data.pop(index)\n",
    "        self.update_stats()\n",
    "        "
   ]
  }
 ],
 "metadata": {
  "kernelspec": {
   "display_name": "Python 3",
   "language": "python",
   "name": "python3"
  },
  "language_info": {
   "codemirror_mode": {
    "name": "ipython",
    "version": 3
   },
   "file_extension": ".py",
   "mimetype": "text/x-python",
   "name": "python",
   "nbconvert_exporter": "python",
   "pygments_lexer": "ipython3",
   "version": "3.7.3"
  }
 },
 "nbformat": 4,
 "nbformat_minor": 2
}
