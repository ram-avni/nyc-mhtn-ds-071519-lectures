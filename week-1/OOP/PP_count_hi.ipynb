{
 "cells": [
  {
   "cell_type": "code",
   "execution_count": 3,
   "metadata": {},
   "outputs": [],
   "source": [
    "def count_hi(str):\n",
    "  # find str len\n",
    "  # look for h\n",
    "  # if h look for i\n",
    "  # if i increase counter\n",
    "  # keep looping\n",
    "    counter = 0\n",
    "    for char in range(len(str)):\n",
    "        if char == len(str):\n",
    "          break\n",
    "        if str[char] == \"h\" and str[char+1] == \"i\":\n",
    "          counter += 1\n",
    "    return counter"
   ]
  },
  {
   "cell_type": "code",
   "execution_count": null,
   "metadata": {},
   "outputs": [],
   "source": []
  }
 ],
 "metadata": {
  "kernelspec": {
   "display_name": "Python 3",
   "language": "python",
   "name": "python3"
  },
  "language_info": {
   "codemirror_mode": {
    "name": "ipython",
    "version": 3
   },
   "file_extension": ".py",
   "mimetype": "text/x-python",
   "name": "python",
   "nbconvert_exporter": "python",
   "pygments_lexer": "ipython3",
   "version": "3.7.3"
  }
 },
 "nbformat": 4,
 "nbformat_minor": 2
}
