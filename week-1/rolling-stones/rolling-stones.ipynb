{
 "cells": [
  {
   "cell_type": "markdown",
   "metadata": {},
   "source": [
    "# Instructions:"
   ]
  },
  {
   "cell_type": "markdown",
   "metadata": {},
   "source": [
    "## Getting Started\n",
    "In this exercise, we will be using data from `rolling stone's top 500 albums`. We have this data contained in the `data.csv` file. We will be building out the following functions to answer questions and interact with this data.\n",
    "\n",
    "> **remember:** reading from a csv file in python looks like the following:\n",
    "\n",
    "```python \n",
    "import csv\n",
    "\n",
    "    with open(file_name) as f:\n",
    "        # we are using DictReader because we want our information to be in dictionary format.\n",
    "        reader = csv.DictReader(f)\n",
    "        # some more code\n",
    "```\n",
    "\n",
    "Once we have our `reader` reading our file as dictionaries, we want our data to be a list of dictionaries. So, we need to loop through our `reader` and create a list. *hint: list comprehension / for loops are your friend\"\n",
    "\n",
    "```python\n",
    "# our data will look something like this once we have read it and turned it into a list of `OrderedDict`s\n",
    "# don't worry, the ordered dicts look different but we can interact with them the same way we do normal dicts\n",
    "[OrderedDict([('number', '1'), ('year', '1967'), ('album', \"Sgt. Pepper's Lonely Hearts Club Band\"), ('artist', 'The Beatles'), ('genre', 'Rock'), ('subgenre', 'Rock & Roll, Psychedelic Rock')]), OrderedDict([('number', '2'), ('year', '1966'), ('album', 'Pet Sounds'), ('artist', 'The Beach Boys'), ('genre', 'Rock'), ('subgenre', 'Pop Rock, Psychedelic Rock')]), OrderedDict([('number', '3'), ('year', '1966'), ('album', 'Revolver'), ('artist', 'The Beatles'), ('genre', 'Rock'), ('subgenre', 'Psychedelic Rock, Pop Rock')])]\n",
    "```\n",
    "\n",
    "After we have our data formated the way we want it, we can now begin working on defining our functions."
   ]
  },
  {
   "cell_type": "code",
   "execution_count": 197,
   "metadata": {},
   "outputs": [
    {
     "name": "stdout",
     "output_type": "stream",
     "text": [
      "odict_keys(['number', 'year', 'album', 'artist', 'genre', 'subgenre']) \n",
      "\n",
      "odict_values(['1', '1967', \"Sgt. Pepper's Lonely Hearts Club Band\", 'The Beatles', 'Rock', 'Rock & Roll, Psychedelic Rock'])\n"
     ]
    }
   ],
   "source": [
    "import csv\n",
    "with open(\"data.csv\") as f:\n",
    "        # we are using DictReader because we want our information to be in dictionary format.\n",
    "        reader = csv.DictReader(f)\n",
    "        \n",
    "        top_500_albums = list(map(lambda line: line, reader))\n",
    "                \n",
    "        print(f\"{top_500_albums[0].keys()} \\n\")\n",
    "        print(top_500_albums[0].values())"
   ]
  },
  {
   "cell_type": "markdown",
   "metadata": {},
   "source": [
    "\n",
    "### Functions to build-out:\n",
    "\n",
    "* **Searching functions**\n",
    "  * Find by name - Takes in a string that represents the name of an album. Should return a dictionary with the correct album, or return `None`.\n",
    "  * Find by rank - Takes in a number that represents the rank in the list of top albums and returns the album with that rank. If there is no album with that rank, it returns `None`.\n",
    "  * Find by year - Takes in a number for the year in which an album was released and returns a list of albums that were released in that year. If there are no albums released in the given year, it returns an empty list.\n",
    "  * Find by years - Takes in a start year and end year. Returns a list of all albums that were released on or between the start and end years. If no albums are found for those years, then an empty list is returned. \n",
    "  * Find by ranks - Takes in a start rank and end rank. Returns a list of albums that are ranked between the start and end ranks. If no albums are found for those ranks, then an empty list is returned.\n",
    "* **All functions**\n",
    "  * All titles - Returns a list of titles for each album.\n",
    "  * All artists - Returns a list of artist names for each album.\n",
    "* **Questions to answer / functions**\n",
    "  * Artists with the most albums - Returns the artist with the highest amount of albums on the list of top albums \n",
    "  * Most popular word - Returns the word used most in amongst all album titles\n",
    "  * Histogram of albums by decade - Returns a histogram with each decade pointing to the number of albums released during that decade.\n",
    "  * Histogram by genre - Returns a histogram with each genre pointing to the number of albums that are categorized as being in that genre."
   ]
  },
  {
   "cell_type": "code",
   "execution_count": 216,
   "metadata": {},
   "outputs": [
    {
     "data": {
      "text/plain": [
       "[]"
      ]
     },
     "execution_count": 216,
     "metadata": {},
     "output_type": "execute_result"
    }
   ],
   "source": [
    "def find_by_name(album_name):\n",
    "    return [album for album in top_500_albums if album['album'] == album_name] #or None\n",
    "\n",
    "#      --- QUESTION-----\n",
    "\n",
    "# -------->> Why the for loop returns None but the list comprehension returns empty list?  \n",
    "\n",
    "\n",
    "#     for album in album_list:\n",
    "#          if album['album'] == album_name:\n",
    "#              return album\n",
    "\n",
    "find_by_name('Pet Sounds')\n",
    "find_by_name('Rami')\n",
    "\n",
    "# print(find_by_name('Rami'))\n",
    "# x = find_by_name('Rami')\n",
    "# print(x)"
   ]
  },
  {
   "cell_type": "code",
   "execution_count": 239,
   "metadata": {},
   "outputs": [
    {
     "name": "stdout",
     "output_type": "stream",
     "text": [
      "None\n"
     ]
    }
   ],
   "source": [
    "def find_by_rank(rank): \n",
    "    return  [album for album in top_500_albums if int(album['number']) == rank] or None\n",
    "        \n",
    "print(find_by_rank(600))"
   ]
  },
  {
   "cell_type": "code",
   "execution_count": 204,
   "metadata": {},
   "outputs": [
    {
     "data": {
      "text/plain": [
       "[]"
      ]
     },
     "execution_count": 204,
     "metadata": {},
     "output_type": "execute_result"
    }
   ],
   "source": [
    "def find_by_year(year): \n",
    "    return  [album for album in top_500_albums if int(album['year']) == year]\n",
    "        \n",
    "find_by_year(1920)"
   ]
  },
  {
   "cell_type": "code",
   "execution_count": 219,
   "metadata": {},
   "outputs": [
    {
     "data": {
      "text/plain": [
       "[OrderedDict([('number', '101'),\n",
       "              ('year', '1955'),\n",
       "              ('album', 'In the Wee Small Hours'),\n",
       "              ('artist', 'Frank Sinatra'),\n",
       "              ('genre', 'Jazz, Pop'),\n",
       "              ('subgenre', 'Big Band, Ballad')])]"
      ]
     },
     "execution_count": 219,
     "metadata": {},
     "output_type": "execute_result"
    }
   ],
   "source": [
    "def find_by_years(start, end): \n",
    "    return  [album for album in top_500_albums if int(album['year']) >= start and int(album['year']) <= end]\n",
    "        \n",
    "find_by_years(1955, 1955)"
   ]
  },
  {
   "cell_type": "code",
   "execution_count": 241,
   "metadata": {},
   "outputs": [
    {
     "data": {
      "text/plain": [
       "[]"
      ]
     },
     "execution_count": 241,
     "metadata": {},
     "output_type": "execute_result"
    }
   ],
   "source": [
    "def find_by_ranks(start, end): \n",
    "    return  [album for album in top_500_albums if int(album['number']) >= start and int(album['number']) <= end]\n",
    "        \n",
    "find_by_ranks(600, 700)"
   ]
  },
  {
   "cell_type": "code",
   "execution_count": 248,
   "metadata": {},
   "outputs": [
    {
     "data": {
      "text/plain": [
       "[\"Sgt. Pepper's Lonely Hearts Club Band\", 'Pet Sounds']"
      ]
     },
     "execution_count": 248,
     "metadata": {},
     "output_type": "execute_result"
    }
   ],
   "source": [
    "def all_titles():\n",
    "    all_titles=[]\n",
    "    for album in top_500_albums:\n",
    "        all_titles.append(album['album'])\n",
    "    return all_titles\n",
    "all_titles()[0:2]"
   ]
  },
  {
   "cell_type": "code",
   "execution_count": 254,
   "metadata": {},
   "outputs": [
    {
     "data": {
      "text/plain": [
       "['The Beatles', 'The Beach Boys', 'The Beatles']"
      ]
     },
     "execution_count": 254,
     "metadata": {},
     "output_type": "execute_result"
    }
   ],
   "source": [
    "def all_artists():\n",
    "    all_artists=[]\n",
    "    for album in top_500_albums:\n",
    "        all_artists.append(album['artist'])\n",
    "        \n",
    "#     all_artists_set = set(all_artists)\n",
    "#     return all_artists_set\n",
    "\n",
    "    return all_artists\n",
    "all_artists()[:3]"
   ]
  },
  {
   "cell_type": "code",
   "execution_count": 298,
   "metadata": {},
   "outputs": [
    {
     "data": {
      "text/plain": [
       "'The Beatles'"
      ]
     },
     "execution_count": 298,
     "metadata": {},
     "output_type": "execute_result"
    }
   ],
   "source": [
    "# - Returns the artist with the highest amount of albums on the list of top albums\n",
    "def a_w_most_albums():\n",
    "\n",
    "# ------------------------------1st solution------------------------------------\n",
    "\n",
    "#     artists_list = [album['artist'] for album in top_500_albums]\n",
    "#     counter_dict = {}\n",
    "\n",
    "#     for name in artists_list:\n",
    "#         if name in counter_dict:\n",
    "#             counter_dict[name] += 1\n",
    "#         else: \n",
    "#             counter_dict.update({name: 1})   \n",
    "\n",
    "#     v=list(counter_dict.values())\n",
    "#     k=list(counter_dict.keys())\n",
    "#     return k[v.index(max(v))]\n",
    "\n",
    "# a_w_most_albums()\n",
    "\n",
    "# ------------------------------2nd solution------------------------------------\n",
    "\n",
    "    for name in artists_list:\n",
    "        if name in counter_dict:\n",
    "            counter_dict[name] += 1\n",
    "        else: \n",
    "            counter_dict.update({name: 1}) \n",
    "            \n",
    "    return sorted(counter_dict, key=counter_dict.__getitem__, reverse= True)[0]\n",
    "\n",
    "a_w_most_albums()"
   ]
  },
  {
   "cell_type": "code",
   "execution_count": 385,
   "metadata": {},
   "outputs": [
    {
     "data": {
      "text/plain": [
       "'The'"
      ]
     },
     "execution_count": 385,
     "metadata": {},
     "output_type": "execute_result"
    }
   ],
   "source": [
    "# Most popular word - Returns the word used most in amongst all album titles\n",
    "\n",
    "import collections\n",
    "\n",
    "def popular_word():\n",
    "\n",
    "    words_in_titles = []\n",
    "\n",
    "    for album in top_500_albums:\n",
    "        words_in_titles.extend (album['album'].split())\n",
    "\n",
    "    counter = collections.Counter(words_in_titles)\n",
    "    return(counter.most_common()[0][0])\n",
    "\n",
    "popular_word()"
   ]
  },
  {
   "cell_type": "code",
   "execution_count": 407,
   "metadata": {},
   "outputs": [
    {
     "name": "stdout",
     "output_type": "stream",
     "text": [
      "[1940, 1950, 1960, 1970, 1980, 1990, 2000, 2010, 2020]\n",
      "[0, 9, 99, 181, 83, 65, 39, 2, 0]\n",
      "5820\n",
      "[11, 11, 11, 11, 11, 11, 11, 11, 11]\n"
     ]
    }
   ],
   "source": [
    "# Histogram of albums by decade - Returns a histogram with each decade pointing to the number of albums released during that decade.\n",
    "#def album_dec_his():\n",
    "\n",
    "decade_list = []\n",
    "decade_albums = []\n",
    "\n",
    "for decade in range(1940, 2030, 10):\n",
    "    num_released = len(find_by_years(decade, decade + 9))\n",
    "    decade_list.append(decade)\n",
    "    decade_albums.append(num_released)\n",
    "    \n",
    "print(decade_list)\n",
    "print(decade_albums)\n",
    "\n",
    "temp = []\n",
    "x = []\n",
    "#for i in range(len(decade_list)):\n",
    "\n",
    "temp = decade_list[0] * 3 #decade_albums[i]\n",
    "print(temp)\n",
    "\n",
    "x = [11] * len(decade_list)\n",
    "\n",
    "print (x)\n",
    "\n",
    "# # make histogram\n",
    "# # Import matplotlib\n",
    "# import matplotlib.pyplot as plt\n",
    "# # Set plot space as inline for inline plots and qt for external plots\n",
    "# %matplotlib inline\n",
    "# import numpy as np\n",
    "# x = np.random.randn(200)\n",
    "\n",
    "# #Plot the distogram with hist() function\n",
    "# plt.hist(x, bins = 10)\n",
    "\n",
    "# plt.xlabel('Normal random distribution')\n",
    "# plt.ylabel('Frequency of Values')\n",
    "# plt.title('Histograms in matplotlib')\n",
    "# plt.show()\n"
   ]
  },
  {
   "cell_type": "markdown",
   "metadata": {},
   "source": [
    "## Next Steps"
   ]
  },
  {
   "cell_type": "markdown",
   "metadata": {},
   "source": [
    "Now that we have our functions querying our Album data, let's compare that data with the top 500 songs. We have another file -- a text file! -- that contains the data we need for the top 500 songs. Reading a text file is pretty similar to reading a csv file, however, it tends to need a bit more massaging to get your data formatted the way you want it.\n",
    "\n",
    "```python\n",
    "    # open the text file in read\n",
    "    text_file = open('top-500-songs.txt', 'r')\n",
    "    # read each line of the text file\n",
    "    # here is where you can print out the lines to your terminal and get an idea \n",
    "    # for how you might think about re-formatting the data\n",
    "    lines = text_file.readlines()\n",
    "\n",
    "    print(lines)\n",
    "    # the output will look something like this:\n",
    "['1\\tLike a Rolling Stone\\tBob Dylan\\t1965\\n', '2\\tSatisfaction\\tThe Rolling Stones\\t1965\\n', '3\\tImagine\\tJohn Lennon\\t1971\\n', \"4\\tWhat's Going On\\tMarvin Gaye\\t1971\\n\", '5\\tRespect\\tAretha Franklin\\t1967\\n', '6\\tGood Vibrations\\tThe Beach Boys\\t1966\\n', '7\\tJohnny B. Goode\\tChuck Berry\\t1958\\n', '8\\tHey Jude\\tThe Beatles\\t1968\\n', ...]\n",
    "```\n",
    "\n",
    "It looks like `\\t` is how the text file is separating each element on a line. So, we need a function that can separate a string into a list. Then we can tell this function on what to split our string (i.e. `\\t`). From there we will have a list of lists that are formatted like the following:\n",
    "```python\n",
    "[\"RANK\", \"NAME\", \"ARTIST\", \"YEAR\"]\n",
    "```\n",
    "We need to use our knowledge of iterating to go through each of these elements and turn them into dictionaries with the keys, \"rank\", \"name\", \"artist\", \"year\", pointing to the appropriate values. So, for song number 1, we want it to look like:\n",
    "```python\n",
    "{'rank': 1, 'name': \"Like a Rolling Stone\", 'artist'\"Bob Dylan\": , 'year': 1965}\n",
    "```\n",
    "\n",
    "Once we have a list of songs that are formatted like the above, we can move on to figuring out which songs are from the top albums and which albums and artists have the most 'top songs'."
   ]
  },
  {
   "cell_type": "code",
   "execution_count": 1,
   "metadata": {},
   "outputs": [
    {
     "name": "stdout",
     "output_type": "stream",
     "text": [
      "['21', 'Born to Run', 'Bruce Springsteen', '1975']\n"
     ]
    },
    {
     "data": {
      "text/plain": [
       "[{'rank': '1',\n",
       "  'name': 'Like a Rolling Stone',\n",
       "  'artist': 'Bob Dylan',\n",
       "  'year': '1965'},\n",
       " {'rank': '2',\n",
       "  'name': 'Satisfaction',\n",
       "  'artist': 'The Rolling Stones',\n",
       "  'year': '1965'},\n",
       " {'rank': '3', 'name': 'Imagine', 'artist': 'John Lennon', 'year': '1971'}]"
      ]
     },
     "execution_count": 1,
     "metadata": {},
     "output_type": "execute_result"
    }
   ],
   "source": [
    "text_file = open('top-500-songs.txt', 'r')\n",
    "# read each line of the text file\n",
    "# here is where you can print out the lines to your terminal and get an idea \n",
    "# for how you might think about re-formatting the data\n",
    "lines = text_file.readlines()\n",
    "\n",
    "# split delimiter is \\t\n",
    "temp_top_500_songs = [line.split('\\t') for line in lines]\n",
    "\n",
    "# eliminate \\n at end of line\n",
    "for song in temp_top_500_songs:\n",
    "    song[-1]=song[-1][:-1]\n",
    "\n",
    "# test list\n",
    "print(temp_top_500_songs[20])\n",
    "\n",
    "top_500_songs = []\n",
    "for song in temp_top_500_songs:\n",
    "    song_dict = {\"rank\": song[0], \"name\": song[1], \"artist\": song[2], \"year\": song[3]}\n",
    "    top_500_songs.append (song_dict)\n",
    "\n",
    "# test list of song dicts\n",
    "top_500_songs[0:3]\n"
   ]
  },
  {
   "cell_type": "markdown",
   "metadata": {},
   "source": [
    "### Working with the top 500 songs"
   ]
  },
  {
   "cell_type": "markdown",
   "metadata": {},
   "source": [
    "If we can't already re-use our searching functions (i.e. Find by name, Find by rank, Find by year, Find by years, Find by ranks), all functions (i.e. all titles, all artists), and questions-to-answer functions (i.e. Artists with the most albums (or songs), Most popular word, Histogram by decade, Histogram by genre) with the song data we just formatted, then refactor these functions so that they can be used with either set of data. This is a good practice for ensuring that our code is as reusable and modular as possible, which is important when writing code for any project, especially when it comes time to scale a project. Things are easier to read, and there is less code to worry about (and more importantly there is less code to debug when something goes wrong).\n",
    "\n",
    "Once we have our functions working for both sets of data, we can start writing new functions!\n",
    "\n",
    "Luckily for us, this next dataset is already made for us. We were curious to find out which songs on the top 500 songs overlapped with the top albums and vice versa. So, we created a data set that is a list of dictionaries in JSON format. Each dictionary contains the name of the artist, the album, and the tracks (songs) on that given album. We can use this data to check which songs on the top 500 list are featured on the albums on the top albums list.\n",
    "\n",
    "To load our JSON file we will write:\n",
    "\n",
    "```python\n",
    "import json\n",
    "\n",
    "file = open('track_data.json', 'r')\n",
    "json_data = json.load(file)\n",
    "\n",
    "print(json_data)\n",
    "# output will look like this:\n",
    "[{'artist': 'The Beatles', 'album': \"Sgt. Pepper's Lonely Hearts Club Band\", 'tracks': [\"Sgt. Pepper's Lonely Hearts Club Band - Remix\", 'With A Little Help From My Friends - Remix', 'Lucy In The Sky With Diamonds - Remix', 'Getting Better - Remix', 'Fixing A Hole - Remix', \"She's Leaving Home - Remix\", 'Being For The Benefit Of Mr. Kite! - Remix', 'Within You Without You - Remix', \"When I'm Sixty-Four - Remix\", 'Lovely Rita - Remix', 'Good Morning Good Morning - Remix', \"Sgt. Pepper's Lonely Hearts Club Band (Reprise) - Remix\", 'A Day In The Life - Remix', \"Sgt. Pepper's Lonely Hearts Club Band - Take 9 And Speech\", 'With A Little Help From My Friends - Take 1 / False Start And Take 2 / Instrumental', 'Lucy In The Sky With Diamonds - Take 1', 'Getting Better - Take 1 / Instrumental And Speech At The End', 'Fixing A Hole - Speech And Take 3', \"She's Leaving Home - Take 1 / Instrumental\", 'Being For The Benefit Of Mr. Kite! - Take 4', 'Within You Without You - Take 1 / Indian Instruments', \"When I'm Sixty-Four - Take 2\", 'Lovely Rita - Speech And Take 9', 'Good Morning Good Morning - Take 8', \"Sgt. Pepper's Lonely Hearts Club Band (Reprise) - Speech And Take 8\", 'A Day In The Life - Take 1 With Hums', 'Strawberry Fields Forever - Take 7', 'Strawberry Fields Forever - Take 26', 'Strawberry Fields Forever - Stereo Mix 2015', 'Penny Lane - Take 6 / Instrumental', 'Penny Lane - Stereo Mix 2017']}, {'artist': 'The Beach Boys', 'album': 'Pet Sounds', 'tracks': [\"Wouldn't It Be Nice - Digitally Remastered 96\", 'You Still Believe In Me - Digitally Remastered 96', \"That's Not Me - 1996 Digital Remaster\", \"Don't Talk (Put Your Head On My Shoulder) - 1996 Digital Remaster\", \"I'm Waiting For The Day - Digitally Remastered 96\", \"Let's Go Away For Awhile - Digitally Remastered 96\", 'Sloop John B - 1996 - Remaster', 'God Only Knows - 1997 - Remaster', \"I Know There's An Answer - Digitally Remastered 96\", 'Here Today - Digitally Remastered 96', \"I Just Wasn't Made For These Times - Digitally Remastered 96\", 'Pet Sounds - Digitally Remastered 96', 'Caroline, No - 1996 Digital Remaster', 'Hang On To Your Ego', \"Wouldn't It Be Nice - 2000 - Remaster\", 'You Still Believe In Me - 1996 Digital Remaster', \"That's Not Me - 1996 Digital Remaster\", \"Don't Talk (Put Your Head On My Shoulder) - 1996 Digital Remaster\", \"I'm Waiting For The Day - 1996 Digital Remaster\", \"Let's Go Away For Awhile - 1996 Digital Remaster\", 'Sloop John B - 1996 Digital Remaster', 'God Only Knows - 1996 Digital Remaster', \"I Know There's An Answer - 1996 Digital Remaster\", 'Here Today - 1996 Digital Remaster', \"I Just Wasn't Made For These Times - 1996 Digital Remaster\", 'Pet Sounds - 1996 Digital Remaster', 'Caroline, No - 1996 Digital Remaster']}, {'artist': 'The Beatles', 'album': 'Revolver', 'tracks': ['Taxman - Remastered', 'Eleanor Rigby - Remastered', \"I'm Only Sleeping - Remastered\", 'Love You To - Remastered', 'Here, There And Everywhere - Remastered', 'Yellow Submarine - Remastered', 'She Said She Said - Remastered', 'Good Day Sunshine - Remastered', 'And Your Bird Can Sing - Remastered', 'For No One - Remastered', 'Doctor Robert - Remastered', 'I Want To Tell You - Remastered', 'Got To Get You Into My Life - Remastered', 'Tomorrow Never Knows - Remastered']}, {'artist': 'Bob Dylan', 'album': 'Highway 61 Revisited', 'tracks': ['Like a Rolling Stone', 'Tombstone Blues', 'It Takes a Lot to Laugh, It Takes a Train to Cry', 'From a Buick 6', 'Ballad of a Thin Man', 'Queen Jane Approximately', 'Highway 61 Revisited', \"Just Like Tom Thumb's Blues\", 'Desolation Row']}, ...]\n",
    "```"
   ]
  },
  {
   "cell_type": "code",
   "execution_count": 361,
   "metadata": {},
   "outputs": [
    {
     "name": "stdout",
     "output_type": "stream",
     "text": [
      "478\n",
      "dict_keys(['artist', 'album', 'tracks'])\n",
      "Elvis Presley\n",
      "Elvis Presley\n",
      "['Heartbreak Hotel', \"Don't Be Cruel\", 'Hound Dog', 'Love Me Tender', 'Too Much', 'All Shook Up', '(Let Me Be Your) Teddy Bear', 'Jailhouse Rock', \"Don't\", 'Hard Headed Woman - From the Hal Wallis Production \"King Creole\", a Paramount Picture', 'One Night', \"(Now and Then There's) A Fool Such as I\", \"A Big Hunk O' Love\", 'Stuck On You', \"It's Now or Never\", 'Are You Lonesome Tonight? - Remastered', 'Wooden Heart', 'Surrender', \"(Marie's The Name) His Latest Flame\", \"Can't Help Falling In Love\", 'Good Luck Charm', \"She's Not You - Remastered\", 'Return to Sender', \"(You're The) Devil in Disguise\", 'Crying In the Chapel', 'In the Ghetto', 'Suspicious Minds', 'The Wonder of You - Live', 'Burning Love', 'Way Down', 'A Little Less Conversation - JXL Radio Edit Remix']\n"
     ]
    }
   ],
   "source": [
    "import json\n",
    "\n",
    "file = open('track_data.json', 'r')\n",
    "json_data = json.load(file)\n",
    "\n",
    "i = 55\n",
    "print(len(json_data))\n",
    "print(json_data[0].keys())\n",
    "print(json_data[i]['artist'])\n",
    "print(json_data[i]['album'])\n",
    "print(json_data[i]['tracks'])"
   ]
  },
  {
   "cell_type": "markdown",
   "metadata": {},
   "source": [
    "### Bonus: Define the following functions:\n",
    "\n",
    "**albumWithMostTopSongs** - returns the name of the artist and album that has that most songs featured on the top 500 songs list\n",
    "\n",
    "**albumsWithTopSongs** - returns a list with the name of only the albums that have tracks featured on the list of top 500 songs\n",
    "\n",
    "**songsThatAreOnTopAlbums** - returns a list with the name of only the songs featured on the list of top albums\n",
    "\n",
    "**top10AlbumsByTopSongs** - returns a histogram with the 10 albums that have the most songs that appear in the top songs list. The album names should point to the number of songs that appear on the top 500 songs list.\n",
    "\n",
    "**topOverallArtist** - Artist featured with the most songs and albums on the two lists. This means that if Brittany Spears had 3 of her albums featured on the top albums listed and 10 of her songs featured on the top songs, she would have a total of 13. The artist with the highest aggregate score would be the top overall artist."
   ]
  },
  {
   "cell_type": "code",
   "execution_count": 371,
   "metadata": {},
   "outputs": [
    {
     "data": {
      "text/plain": [
       "'The artist is: Elvis Presley, and the album is Elvis Presley'"
      ]
     },
     "execution_count": 371,
     "metadata": {},
     "output_type": "execute_result"
    }
   ],
   "source": [
    "def track_in_top_500_songs(track):\n",
    "    Found = False\n",
    "    for song in top_500_songs:\n",
    "        if song['name'] == track:\n",
    "            Found = True\n",
    "            break\n",
    "    return Found\n",
    "\n",
    "def albumWithMostTopSongs():\n",
    "    #check each album in json\n",
    "    # search if each track appears in top_songs - if so, counter+1\n",
    "    #return names of album and artist\n",
    "\n",
    "    counters = []\n",
    "    \n",
    "    for j in json_data:\n",
    "        counter = 0\n",
    "        for track in j['tracks']:\n",
    "            if track_in_top_500_songs(track):\n",
    "                counter += 1\n",
    "        counters.append(counter)\n",
    "    \n",
    "    idx = counters.index(max(counters))\n",
    "    artist_and_album = f\"The artist is: {json_data[idx]['artist']}, and the album is {json_data[idx]['album']}\"\n",
    "    \n",
    "    return artist_and_album\n",
    "\n",
    "albumWithMostTopSongs()"
   ]
  },
  {
   "cell_type": "code",
   "execution_count": null,
   "metadata": {},
   "outputs": [],
   "source": []
  }
 ],
 "metadata": {
  "kernelspec": {
   "display_name": "Python 3",
   "language": "python",
   "name": "python3"
  },
  "language_info": {
   "codemirror_mode": {
    "name": "ipython",
    "version": 3
   },
   "file_extension": ".py",
   "mimetype": "text/x-python",
   "name": "python",
   "nbconvert_exporter": "python",
   "pygments_lexer": "ipython3",
   "version": "3.7.3"
  }
 },
 "nbformat": 4,
 "nbformat_minor": 2
}
