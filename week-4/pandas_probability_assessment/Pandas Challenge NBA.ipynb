{
 "cells": [
  {
   "cell_type": "code",
   "execution_count": 16,
   "metadata": {},
   "outputs": [],
   "source": [
    "import json\n",
    "import pandas as pd"
   ]
  },
  {
   "cell_type": "markdown",
   "metadata": {},
   "source": [
    "# Part 1: Reading and investigating data\n",
    "\n",
    "Open up the `player_data.json` and investigate the data structure."
   ]
  },
  {
   "cell_type": "code",
   "execution_count": 17,
   "metadata": {},
   "outputs": [],
   "source": [
    "#your code here\n",
    "data = json.loads(open('player_data.json').read())"
   ]
  },
  {
   "cell_type": "markdown",
   "metadata": {},
   "source": [
    "# Part 2:  Creating the Dataframe\n",
    "\n",
    "Create a data frame where each row corresponds to a game for each player. You must have atleast the following columns in your final dataframe:\n",
    "\n",
    "'DISPLAY_FIRST_LAST', 'PERSON_ID', 'TEAM_ID', 'AST', 'BLK', 'DREB','Game_ID',  'MIN', 'PTS', 'REB', 'TEAM_ABBREVIATION'\n",
    "\n",
    "*You can include additional columns in your dataframe, so you don't have to do additional work to remove other columns.*  "
   ]
  },
  {
   "cell_type": "code",
   "execution_count": 18,
   "metadata": {},
   "outputs": [
    {
     "data": {
      "text/plain": [
       "dict_keys(['PERSON_ID', 'FIRST_NAME', 'LAST_NAME', 'DISPLAY_FIRST_LAST', 'DISPLAY_LAST_COMMA_FIRST', 'DISPLAY_FI_LAST', 'BIRTHDATE', 'SCHOOL', 'COUNTRY', 'LAST_AFFILIATION', 'HEIGHT', 'WEIGHT', 'SEASON_EXP', 'JERSEY', 'POSITION', 'ROSTERSTATUS', 'TEAM_ID', 'TEAM_NAME', 'TEAM_ABBREVIATION', 'TEAM_CODE', 'TEAM_CITY', 'PLAYERCODE', 'FROM_YEAR', 'TO_YEAR', 'DLEAGUE_FLAG', 'NBA_FLAG', 'GAMES_PLAYED_FLAG', 'DRAFT_YEAR', 'DRAFT_ROUND', 'DRAFT_NUMBER', 'CAREER_STATS', 'GAMELOG'])"
      ]
     },
     "execution_count": 18,
     "metadata": {},
     "output_type": "execute_result"
    }
   ],
   "source": [
    "# with open('') as file:\n",
    "#     data = json.load(file)\n",
    "#     print(data)\n",
    "# len(data)\n",
    "# 538\n",
    "\n",
    "data[0].keys()"
   ]
  },
  {
   "cell_type": "code",
   "execution_count": 19,
   "metadata": {},
   "outputs": [
    {
     "name": "stdout",
     "output_type": "stream",
     "text": [
      "19\n"
     ]
    },
    {
     "data": {
      "text/plain": [
       "dict_items([('SEASON_ID', '22018'), ('Player_ID', 203518), ('Game_ID', '0021800772'), ('GAME_DATE', 'FEB 01, 2019'), ('MATCHUP', 'OKC @ MIA'), ('WL', 'W'), ('MIN', 9), ('FGM', 0), ('FGA', 2), ('FG_PCT', 0.0), ('FG3M', 0), ('FG3A', 1), ('FG3_PCT', 0.0), ('FTM', 0), ('FTA', 0), ('FT_PCT', 0.0), ('OREB', 0), ('DREB', 0), ('REB', 0), ('AST', 0), ('STL', 0), ('BLK', 0), ('TOV', 0), ('PF', 1), ('PTS', 0), ('PLUS_MINUS', -8), ('VIDEO_AVAILABLE', 1), ('TEAM_ABBREVIATION', 'OKC'), ('TEAM_ID', 1610612760)])"
      ]
     },
     "execution_count": 19,
     "metadata": {},
     "output_type": "execute_result"
    }
   ],
   "source": [
    "print(len(data[5]['GAMELOG'])) # varies\n",
    "data[0]['GAMELOG'][0].items()"
   ]
  },
  {
   "cell_type": "code",
   "execution_count": 20,
   "metadata": {},
   "outputs": [
    {
     "data": {
      "text/html": [
       "<div>\n",
       "<style scoped>\n",
       "    .dataframe tbody tr th:only-of-type {\n",
       "        vertical-align: middle;\n",
       "    }\n",
       "\n",
       "    .dataframe tbody tr th {\n",
       "        vertical-align: top;\n",
       "    }\n",
       "\n",
       "    .dataframe thead th {\n",
       "        text-align: right;\n",
       "    }\n",
       "</style>\n",
       "<table border=\"1\" class=\"dataframe\">\n",
       "  <thead>\n",
       "    <tr style=\"text-align: right;\">\n",
       "      <th></th>\n",
       "    </tr>\n",
       "  </thead>\n",
       "  <tbody>\n",
       "  </tbody>\n",
       "</table>\n",
       "</div>"
      ],
      "text/plain": [
       "Empty DataFrame\n",
       "Columns: []\n",
       "Index: []"
      ]
     },
     "execution_count": 20,
     "metadata": {},
     "output_type": "execute_result"
    }
   ],
   "source": [
    "df = pd.DataFrame()\n",
    "df"
   ]
  },
  {
   "cell_type": "code",
   "execution_count": 21,
   "metadata": {},
   "outputs": [
    {
     "data": {
      "text/plain": [
       "Index(['DISPLAY_FIRST_LAST', 'PERSON_ID', 'TEAM_ID_x', 'AST', 'BLK', 'DREB',\n",
       "       'FG3A', 'FG3M', 'FG3_PCT', 'FGA', 'FGM', 'FG_PCT', 'FTA', 'FTM',\n",
       "       'FT_PCT', 'GAME_DATE', 'Game_ID', 'MATCHUP', 'MIN', 'OREB', 'PF',\n",
       "       'PLUS_MINUS', 'PTS', 'Player_ID', 'REB', 'SEASON_ID', 'STL',\n",
       "       'TEAM_ABBREVIATION', 'TEAM_ID_y', 'TOV', 'VIDEO_AVAILABLE', 'WL'],\n",
       "      dtype='object')"
      ]
     },
     "execution_count": 21,
     "metadata": {},
     "output_type": "execute_result"
    }
   ],
   "source": [
    "df = pd.DataFrame()\n",
    "\n",
    "for person in data:\n",
    "    if len(person['GAMELOG']) == 0:\n",
    "        continue\n",
    "    df1 = pd.DataFrame(person, columns=['DISPLAY_FIRST_LAST', 'PERSON_ID', 'TEAM_ID'], index=[0])\n",
    "    df2 = pd.DataFrame(person['GAMELOG'])\n",
    "    merged = pd.merge(df1, df2, left_on='PERSON_ID', right_on='Player_ID', how='outer')\n",
    "    df = pd.concat([df, merged])\n",
    "    \n",
    "df.reset_index(drop=True, inplace=True)\n",
    "df.columns\n"
   ]
  },
  {
   "cell_type": "code",
   "execution_count": 22,
   "metadata": {},
   "outputs": [
    {
     "data": {
      "text/html": [
       "<div>\n",
       "<style scoped>\n",
       "    .dataframe tbody tr th:only-of-type {\n",
       "        vertical-align: middle;\n",
       "    }\n",
       "\n",
       "    .dataframe tbody tr th {\n",
       "        vertical-align: top;\n",
       "    }\n",
       "\n",
       "    .dataframe thead th {\n",
       "        text-align: right;\n",
       "    }\n",
       "</style>\n",
       "<table border=\"1\" class=\"dataframe\">\n",
       "  <thead>\n",
       "    <tr style=\"text-align: right;\">\n",
       "      <th></th>\n",
       "      <th>DISPLAY_FIRST_LAST</th>\n",
       "      <th>PERSON_ID</th>\n",
       "      <th>TEAM_ID_x</th>\n",
       "      <th>AST</th>\n",
       "      <th>BLK</th>\n",
       "      <th>DREB</th>\n",
       "      <th>FG3A</th>\n",
       "      <th>FG3M</th>\n",
       "      <th>FG3_PCT</th>\n",
       "      <th>FGA</th>\n",
       "      <th>...</th>\n",
       "      <th>PTS</th>\n",
       "      <th>Player_ID</th>\n",
       "      <th>REB</th>\n",
       "      <th>SEASON_ID</th>\n",
       "      <th>STL</th>\n",
       "      <th>TEAM_ABBREVIATION</th>\n",
       "      <th>TEAM_ID_y</th>\n",
       "      <th>TOV</th>\n",
       "      <th>VIDEO_AVAILABLE</th>\n",
       "      <th>WL</th>\n",
       "    </tr>\n",
       "  </thead>\n",
       "  <tbody>\n",
       "    <tr>\n",
       "      <th>0</th>\n",
       "      <td>Alex Abrines</td>\n",
       "      <td>203518</td>\n",
       "      <td>0</td>\n",
       "      <td>0</td>\n",
       "      <td>0</td>\n",
       "      <td>0</td>\n",
       "      <td>1</td>\n",
       "      <td>0</td>\n",
       "      <td>0.000</td>\n",
       "      <td>2</td>\n",
       "      <td>...</td>\n",
       "      <td>0</td>\n",
       "      <td>203518</td>\n",
       "      <td>0</td>\n",
       "      <td>22018</td>\n",
       "      <td>0</td>\n",
       "      <td>OKC</td>\n",
       "      <td>1610612760</td>\n",
       "      <td>0</td>\n",
       "      <td>1</td>\n",
       "      <td>W</td>\n",
       "    </tr>\n",
       "    <tr>\n",
       "      <th>1</th>\n",
       "      <td>Alex Abrines</td>\n",
       "      <td>203518</td>\n",
       "      <td>0</td>\n",
       "      <td>0</td>\n",
       "      <td>0</td>\n",
       "      <td>1</td>\n",
       "      <td>2</td>\n",
       "      <td>1</td>\n",
       "      <td>0.500</td>\n",
       "      <td>2</td>\n",
       "      <td>...</td>\n",
       "      <td>3</td>\n",
       "      <td>203518</td>\n",
       "      <td>1</td>\n",
       "      <td>22018</td>\n",
       "      <td>0</td>\n",
       "      <td>OKC</td>\n",
       "      <td>1610612760</td>\n",
       "      <td>0</td>\n",
       "      <td>1</td>\n",
       "      <td>W</td>\n",
       "    </tr>\n",
       "    <tr>\n",
       "      <th>2</th>\n",
       "      <td>Alex Abrines</td>\n",
       "      <td>203518</td>\n",
       "      <td>0</td>\n",
       "      <td>0</td>\n",
       "      <td>2</td>\n",
       "      <td>1</td>\n",
       "      <td>5</td>\n",
       "      <td>1</td>\n",
       "      <td>0.200</td>\n",
       "      <td>6</td>\n",
       "      <td>...</td>\n",
       "      <td>7</td>\n",
       "      <td>203518</td>\n",
       "      <td>1</td>\n",
       "      <td>22018</td>\n",
       "      <td>0</td>\n",
       "      <td>OKC</td>\n",
       "      <td>1610612760</td>\n",
       "      <td>0</td>\n",
       "      <td>1</td>\n",
       "      <td>L</td>\n",
       "    </tr>\n",
       "    <tr>\n",
       "      <th>3</th>\n",
       "      <td>Alex Abrines</td>\n",
       "      <td>203518</td>\n",
       "      <td>0</td>\n",
       "      <td>0</td>\n",
       "      <td>0</td>\n",
       "      <td>1</td>\n",
       "      <td>4</td>\n",
       "      <td>2</td>\n",
       "      <td>0.500</td>\n",
       "      <td>4</td>\n",
       "      <td>...</td>\n",
       "      <td>6</td>\n",
       "      <td>203518</td>\n",
       "      <td>1</td>\n",
       "      <td>22018</td>\n",
       "      <td>0</td>\n",
       "      <td>OKC</td>\n",
       "      <td>1610612760</td>\n",
       "      <td>0</td>\n",
       "      <td>1</td>\n",
       "      <td>W</td>\n",
       "    </tr>\n",
       "    <tr>\n",
       "      <th>4</th>\n",
       "      <td>Alex Abrines</td>\n",
       "      <td>203518</td>\n",
       "      <td>0</td>\n",
       "      <td>1</td>\n",
       "      <td>0</td>\n",
       "      <td>1</td>\n",
       "      <td>7</td>\n",
       "      <td>3</td>\n",
       "      <td>0.429</td>\n",
       "      <td>7</td>\n",
       "      <td>...</td>\n",
       "      <td>9</td>\n",
       "      <td>203518</td>\n",
       "      <td>1</td>\n",
       "      <td>22018</td>\n",
       "      <td>0</td>\n",
       "      <td>OKC</td>\n",
       "      <td>1610612760</td>\n",
       "      <td>0</td>\n",
       "      <td>1</td>\n",
       "      <td>W</td>\n",
       "    </tr>\n",
       "  </tbody>\n",
       "</table>\n",
       "<p>5 rows × 32 columns</p>\n",
       "</div>"
      ],
      "text/plain": [
       "  DISPLAY_FIRST_LAST  PERSON_ID  TEAM_ID_x  AST  BLK  DREB  FG3A  FG3M  \\\n",
       "0       Alex Abrines     203518          0    0    0     0     1     0   \n",
       "1       Alex Abrines     203518          0    0    0     1     2     1   \n",
       "2       Alex Abrines     203518          0    0    2     1     5     1   \n",
       "3       Alex Abrines     203518          0    0    0     1     4     2   \n",
       "4       Alex Abrines     203518          0    1    0     1     7     3   \n",
       "\n",
       "   FG3_PCT  FGA  ...  PTS  Player_ID  REB  SEASON_ID  STL TEAM_ABBREVIATION  \\\n",
       "0    0.000    2  ...    0     203518    0      22018    0               OKC   \n",
       "1    0.500    2  ...    3     203518    1      22018    0               OKC   \n",
       "2    0.200    6  ...    7     203518    1      22018    0               OKC   \n",
       "3    0.500    4  ...    6     203518    1      22018    0               OKC   \n",
       "4    0.429    7  ...    9     203518    1      22018    0               OKC   \n",
       "\n",
       "    TEAM_ID_y TOV  VIDEO_AVAILABLE  WL  \n",
       "0  1610612760   0                1   W  \n",
       "1  1610612760   0                1   W  \n",
       "2  1610612760   0                1   L  \n",
       "3  1610612760   0                1   W  \n",
       "4  1610612760   0                1   W  \n",
       "\n",
       "[5 rows x 32 columns]"
      ]
     },
     "execution_count": 22,
     "metadata": {},
     "output_type": "execute_result"
    }
   ],
   "source": [
    "\n",
    "df.head(5)"
   ]
  },
  {
   "cell_type": "markdown",
   "metadata": {},
   "source": [
    "# Part 3: Pandas Questions\n",
    "\n",
    "Answer the following questions"
   ]
  },
  {
   "cell_type": "markdown",
   "metadata": {},
   "source": [
    "## 1 \n",
    "- Find the player who scored the most points in an individual game last season.\n",
    "\n",
    "-  Now do the same for rebounds, blocks, and assists."
   ]
  },
  {
   "cell_type": "code",
   "execution_count": 107,
   "metadata": {},
   "outputs": [
    {
     "data": {
      "text/html": [
       "<div>\n",
       "<style scoped>\n",
       "    .dataframe tbody tr th:only-of-type {\n",
       "        vertical-align: middle;\n",
       "    }\n",
       "\n",
       "    .dataframe tbody tr th {\n",
       "        vertical-align: top;\n",
       "    }\n",
       "\n",
       "    .dataframe thead th {\n",
       "        text-align: right;\n",
       "    }\n",
       "</style>\n",
       "<table border=\"1\" class=\"dataframe\">\n",
       "  <thead>\n",
       "    <tr style=\"text-align: right;\">\n",
       "      <th></th>\n",
       "      <th>DISPLAY_FIRST_LAST</th>\n",
       "      <th>PERSON_ID</th>\n",
       "      <th>TEAM_ID_x</th>\n",
       "      <th>AST</th>\n",
       "      <th>BLK</th>\n",
       "      <th>DREB</th>\n",
       "      <th>FG3A</th>\n",
       "      <th>FG3M</th>\n",
       "      <th>FG3_PCT</th>\n",
       "      <th>FGA</th>\n",
       "      <th>...</th>\n",
       "      <th>PTS</th>\n",
       "      <th>Player_ID</th>\n",
       "      <th>REB</th>\n",
       "      <th>SEASON_ID</th>\n",
       "      <th>STL</th>\n",
       "      <th>TEAM_ABBREVIATION</th>\n",
       "      <th>TEAM_ID_y</th>\n",
       "      <th>TOV</th>\n",
       "      <th>VIDEO_AVAILABLE</th>\n",
       "      <th>WL</th>\n",
       "    </tr>\n",
       "  </thead>\n",
       "  <tbody>\n",
       "    <tr>\n",
       "      <th>10323</th>\n",
       "      <td>James Harden</td>\n",
       "      <td>201935</td>\n",
       "      <td>1610612745</td>\n",
       "      <td>1</td>\n",
       "      <td>0</td>\n",
       "      <td>5</td>\n",
       "      <td>13</td>\n",
       "      <td>9</td>\n",
       "      <td>0.692</td>\n",
       "      <td>34</td>\n",
       "      <td>...</td>\n",
       "      <td>61</td>\n",
       "      <td>201935</td>\n",
       "      <td>7</td>\n",
       "      <td>22018</td>\n",
       "      <td>3</td>\n",
       "      <td>HOU</td>\n",
       "      <td>1610612745</td>\n",
       "      <td>3</td>\n",
       "      <td>1</td>\n",
       "      <td>W</td>\n",
       "    </tr>\n",
       "  </tbody>\n",
       "</table>\n",
       "<p>1 rows × 32 columns</p>\n",
       "</div>"
      ],
      "text/plain": [
       "      DISPLAY_FIRST_LAST  PERSON_ID   TEAM_ID_x  AST  BLK  DREB  FG3A  FG3M  \\\n",
       "10323       James Harden     201935  1610612745    1    0     5    13     9   \n",
       "\n",
       "       FG3_PCT  FGA  ...  PTS  Player_ID  REB  SEASON_ID  STL  \\\n",
       "10323    0.692   34  ...   61     201935    7      22018    3   \n",
       "\n",
       "      TEAM_ABBREVIATION   TEAM_ID_y TOV  VIDEO_AVAILABLE  WL  \n",
       "10323               HOU  1610612745   3                1   W  \n",
       "\n",
       "[1 rows x 32 columns]"
      ]
     },
     "execution_count": 107,
     "metadata": {},
     "output_type": "execute_result"
    }
   ],
   "source": [
    "# print(df[['DISPLAY_FIRST_LAST']][df['PTS'] == df['PTS'].max()])\n",
    "# print(df[['DISPLAY_FIRST_LAST']][df['REB'] == df['REB'].max()])\n",
    "# print(df[['DISPLAY_FIRST_LAST']][df['BLK'] == df['BLK'].max()])\n",
    "# print(df[['DISPLAY_FIRST_LAST']][df['AST'] == df['AST'].max()])\n",
    "\n",
    "# df.groupby(['Game_ID', 'TEAM_ID_y']).max()\n",
    "# df.groupby(['DISPLAY_FIRST_LAST']).max().sort_values(by=['PTS'], ascending=False).head()\n",
    "\n",
    "# df.groupby(['DISPLAY_FIRST_LAST', 'PTS']).max().sort_values(by=['PTS'], ascending=False).head()\n",
    "\n",
    "# plyer_mx_pts = df.nlargest(20, ['PTS', 'AST'])\n",
    "# plyer_mx_pts\n",
    "# df.nlargest(20, ['PTS', 'AST'])\n",
    "\n",
    "# mx_pt_ind = df.groupby(['Game_ID', 'DISPLAY_FIRST_LAST'])['PTS'].sum()\n",
    "# x = mx_pt_ind.nlargest(1, keep = 'first')\n",
    "# dfx = pd.DataFrame(x)\n",
    "# dfx\n",
    "\n",
    "# mx_pt_ind = df.groupby(['Game_ID', 'DISPLAY_FIRST_LAST'])['PTS'].sum()\n",
    "# mx_pt_ind\n",
    "# x = mx_pt_ind.nlargest(1, keep = 'first')\n",
    "# dfx = pd.DataFrame(x)\n",
    "# dfx\n",
    "\n",
    "#############################################\n",
    "\n",
    "# Sean\n",
    "# df.loc[[df['PTS'].idxmax('PTS')]]\n",
    "\n",
    "# Sean / Rami\n",
    "df.loc[[df['PTS'].idxmax()]]\n",
    "\n",
    "# Nabil\n",
    "# df[df['PTS'] == df['PTS'].max()] \n",
    "\n",
    "# John / Rami\n",
    "# df.loc[df['PTS'].nlargest()].head(3)\n",
    "# df.nlargest(6, ['PTS', 'AST'])\n",
    "\n"
   ]
  },
  {
   "cell_type": "markdown",
   "metadata": {},
   "source": [
    "## 2: \n",
    "\n",
    "- Find the player who scored the most points for the entire season.\n",
    "\n",
    "- Now do the same for rebounds, blocks, and assists."
   ]
  },
  {
   "cell_type": "code",
   "execution_count": 67,
   "metadata": {},
   "outputs": [
    {
     "data": {
      "text/plain": [
       "'James Harden'"
      ]
     },
     "execution_count": 67,
     "metadata": {},
     "output_type": "execute_result"
    }
   ],
   "source": [
    "# Rami\n",
    "# df.groupby(['DISPLAY_FIRST_LAST'])['PTS'].sum().idxmax()\n",
    "\n",
    "# Sean\n",
    "player_grouped = df.groupby('DISPLAY_FIRST_LAST')\n",
    "player_grouped['PTS'].sum().idxmax()\n",
    "\n",
    "\n",
    "# This is GOOD for TOTAL # GAMES???\n",
    "# player = player_grouped['PTS'].count()"
   ]
  },
  {
   "cell_type": "code",
   "execution_count": null,
   "metadata": {},
   "outputs": [],
   "source": [
    "# What is the \"count\" for???\n",
    "# player_grouped = df.groupby('DISPLAY_FIRST_LAST')\n",
    "# player = player_grouped['AST'].sum.count.idmax"
   ]
  },
  {
   "cell_type": "code",
   "execution_count": 56,
   "metadata": {},
   "outputs": [
    {
     "data": {
      "text/plain": [
       "DISPLAY_FIRST_LAST  TEAM_ABBREVIATION\n",
       "James Harden        HOU                  2818\n",
       "Paul George         OKC                  2159\n",
       "Kemba Walker        CHA                  2102\n",
       "Bradley Beal        WAS                  2099\n",
       "Damian Lillard      POR                  2067\n",
       "Name: PTS, dtype: int64"
      ]
     },
     "execution_count": 56,
     "metadata": {},
     "output_type": "execute_result"
    }
   ],
   "source": [
    "# return answer to Q. 1\n",
    "# display(df.groupby(['PERSON_ID'])['PTS'].max().max())\n",
    "\n",
    "# John\n",
    "# x = df.groupby(['SEASON_ID', 'DISPLAY_FIRST_LAST'])['PTS'].sum()\n",
    "# mx_x = x.nlargest(3, keep = 'all')\n",
    "# mx_x\n",
    "\n",
    "# df.groupby('DISPLAY_FIRST_LAST')['PTS'].sum().sort_values(ascending=False).head(1)\n",
    "df.groupby(['DISPLAY_FIRST_LAST', 'TEAM_ABBREVIATION'])['PTS'].sum().nlargest()"
   ]
  },
  {
   "cell_type": "markdown",
   "metadata": {},
   "source": [
    "## 3:\n",
    "How many players played in at least 82 games last season?"
   ]
  },
  {
   "cell_type": "code",
   "execution_count": 42,
   "metadata": {},
   "outputs": [
    {
     "data": {
      "text/plain": [
       "21"
      ]
     },
     "execution_count": 42,
     "metadata": {},
     "output_type": "execute_result"
    }
   ],
   "source": [
    "# (df['DISPLAY_FIRST_LAST'].value_counts() >= 82).sum()\n",
    "(df['DISPLAY_FIRST_LAST'].value_counts() >= 82).sum()"
   ]
  },
  {
   "cell_type": "code",
   "execution_count": 47,
   "metadata": {
    "scrolled": true
   },
   "outputs": [
    {
     "data": {
      "text/plain": [
       "21"
      ]
     },
     "execution_count": 47,
     "metadata": {},
     "output_type": "execute_result"
    }
   ],
   "source": [
    "# --------------\n",
    "### ??? QUESTION ???\n",
    "# --------------\n",
    "\n",
    "### How can we proceed with the results of this line?\n",
    "# df.groupby(['DISPLAY_FIRST_LAST'])['Game_ID'].count()\n",
    "(df.groupby(['DISPLAY_FIRST_LAST'])['Game_ID'].nunique() >= 82).sum()\n"
   ]
  },
  {
   "cell_type": "markdown",
   "metadata": {},
   "source": [
    "## 4: \n",
    "- Find which team scored the most points for the entire season.\n",
    "\n",
    "- Now do the same for rebounds, blocks, and assists."
   ]
  },
  {
   "cell_type": "code",
   "execution_count": 54,
   "metadata": {},
   "outputs": [
    {
     "data": {
      "text/plain": [
       "TEAM_ABBREVIATION\n",
       "MIL    9686\n",
       "GSW    9650\n",
       "NOP    9466\n",
       "PHI    9445\n",
       "LAC    9442\n",
       "Name: PTS, dtype: int64"
      ]
     },
     "execution_count": 54,
     "metadata": {},
     "output_type": "execute_result"
    }
   ],
   "source": [
    "df.groupby('TEAM_ABBREVIATION')['PTS'].sum().nlargest()\n"
   ]
  },
  {
   "cell_type": "code",
   "execution_count": 52,
   "metadata": {},
   "outputs": [
    {
     "name": "stdout",
     "output_type": "stream",
     "text": [
      "9686\n",
      "MIL\n"
     ]
    },
    {
     "data": {
      "text/plain": [
       "TEAM_ABBREVIATION\n",
       "MIL    9686\n",
       "GSW    9650\n",
       "Name: PTS, dtype: int64"
      ]
     },
     "execution_count": 52,
     "metadata": {},
     "output_type": "execute_result"
    }
   ],
   "source": [
    "# grouped_season = df.groupby(['TEAM_ABBREVIATION'])['PTS'].sum()\n",
    "# grouped_season.nlargest(1, keep = 'first')\n",
    "\n",
    "# Sean:\n",
    "teams = df.groupby(['TEAM_ABBREVIATION'])\n",
    "print(teams['PTS'].sum().max())  \n",
    "print(teams['PTS'].sum().idxmax())\n",
    "teams['PTS'].sum().nlargest(2)"
   ]
  },
  {
   "cell_type": "markdown",
   "metadata": {},
   "source": [
    "## 5:\n",
    "Which team had the most players play for them last season?"
   ]
  },
  {
   "cell_type": "code",
   "execution_count": 72,
   "metadata": {},
   "outputs": [
    {
     "data": {
      "text/plain": [
       "TEAM_ABBREVIATION\n",
       "MEM    28\n",
       "CLE    27\n",
       "Name: DISPLAY_FIRST_LAST, dtype: int64"
      ]
     },
     "execution_count": 72,
     "metadata": {},
     "output_type": "execute_result"
    }
   ],
   "source": [
    "teams['DISPLAY_FIRST_LAST'].nunique().idxmax()\n",
    "teams['DISPLAY_FIRST_LAST'].nunique().max()\n",
    "teams['DISPLAY_FIRST_LAST'].nunique().nlargest(2)"
   ]
  },
  {
   "cell_type": "code",
   "execution_count": 80,
   "metadata": {},
   "outputs": [
    {
     "data": {
      "text/plain": [
       "TEAM_ABBREVIATION\n",
       "MEM    28\n",
       "Name: PERSON_ID, dtype: int64"
      ]
     },
     "execution_count": 80,
     "metadata": {},
     "output_type": "execute_result"
    }
   ],
   "source": [
    "#your code here\n",
    "\n",
    "### NOTE ----------->   Unique Persons per Team (like the ex. Unique Id's per domain)\n",
    "\n",
    "n_players = df.groupby('TEAM_ABBREVIATION')['PERSON_ID'].nunique()\n",
    "n_players.loc[n_players.apply(lambda x: x >= n_players.max())]"
   ]
  },
  {
   "cell_type": "code",
   "execution_count": 258,
   "metadata": {},
   "outputs": [
    {
     "name": "stdout",
     "output_type": "stream",
     "text": [
      "MEM\n",
      "28\n"
     ]
    }
   ],
   "source": [
    "n_players = df.groupby('TEAM_ABBREVIATION')['PERSON_ID'].nunique()\n",
    "print(n_players.idxmax())\n",
    "print(n_players.max())"
   ]
  },
  {
   "cell_type": "code",
   "execution_count": 297,
   "metadata": {},
   "outputs": [
    {
     "data": {
      "text/plain": [
       "TEAM_ABBREVIATION\n",
       "MEM    28\n",
       "Name: PERSON_ID, dtype: int64"
      ]
     },
     "execution_count": 297,
     "metadata": {},
     "output_type": "execute_result"
    }
   ],
   "source": [
    "n_players = df.groupby('TEAM_ABBREVIATION')['PERSON_ID'].nunique()\n",
    "\n",
    "# print([n_players.apply(lambda x: x == n_players.max())])\n",
    "\n",
    "n_players.loc[n_players.apply(lambda x: x == n_players.max())]\n"
   ]
  },
  {
   "cell_type": "markdown",
   "metadata": {},
   "source": [
    "## 6:\n",
    "- Did any players play for more than one team last year?\n",
    "\n",
    "- What is the most number of teams a player played for last season?"
   ]
  },
  {
   "cell_type": "code",
   "execution_count": 155,
   "metadata": {},
   "outputs": [
    {
     "data": {
      "text/plain": [
       "3"
      ]
     },
     "execution_count": 155,
     "metadata": {},
     "output_type": "execute_result"
    }
   ],
   "source": [
    "# df.iloc(player_grouped['TEAM_ABBREVIATION'].nunique() > 1)\n",
    "\n",
    "mt = player_grouped['TEAM_ABBREVIATION'].nunique()\n",
    "\n",
    "mt.loc[mt.apply(lambda x: x > 1)].count() # 86\n",
    "mt.loc[mt.apply(lambda x: x > 1)].max()\n",
    "\n",
    "# df.iloc[df[player_grouped['TEAM_ABBREVIATION'].nunique() > 1]]\n",
    "# player_grouped['TEAM_ABBREVIATION'].nunique().loc[player_grouped['TEAM_ABBREVIATION'].nunique() > 1]\n"
   ]
  },
  {
   "cell_type": "code",
   "execution_count": 154,
   "metadata": {},
   "outputs": [
    {
     "data": {
      "text/plain": [
       "3"
      ]
     },
     "execution_count": 154,
     "metadata": {},
     "output_type": "execute_result"
    }
   ],
   "source": [
    "# Sean\n",
    "# g3_df = df.groupby('TEAM_ABBREVIATION')['DISPLAY_FIRST_LAST'].value_counts().unstack().fillna(0).astype(bool).sum()\n",
    "# g3_df[g3_df>1].max()\n",
    "\n",
    "g3 = df.groupby('TEAM_ABBREVIATION')['DISPLAY_FIRST_LAST'].value_counts().unstack().fillna(0).astype(bool).sum()\n",
    "g3[g3>1]\n",
    "g3[g3>1].max()\n",
    "\n"
   ]
  },
  {
   "cell_type": "markdown",
   "metadata": {},
   "source": [
    "## 7:\n",
    "\n",
    "Find the player who scored the least amount of points while playing in at least 40 games last season."
   ]
  },
  {
   "cell_type": "code",
   "execution_count": 159,
   "metadata": {},
   "outputs": [
    {
     "data": {
      "text/plain": [
       "DISPLAY_FIRST_LAST\n",
       "Aaron Gordon           31\n",
       "Aaron Holiday          19\n",
       "Abdel Nader            18\n",
       "Al Horford             24\n",
       "Al-Farouq Aminu        23\n",
       "Alan Williams           8\n",
       "Alec Burks             22\n",
       "Alex Abrines           25\n",
       "Alex Caruso            32\n",
       "Alex Len               33\n",
       "Alex Poythress         12\n",
       "Alfonzo McKinnie       19\n",
       "Alize Johnson           7\n",
       "Allen Crabbe           27\n",
       "Allonzo Trier          31\n",
       "Amile Jefferson         6\n",
       "Amir Johnson           13\n",
       "Andre Drummond         32\n",
       "Andre Iguodala         23\n",
       "Andre Ingram            0\n",
       "Andrew Bogut            8\n",
       "Andrew Harrison        10\n",
       "Andrew Wiggins         40\n",
       "Anfernee Simons        37\n",
       "Angel Delgado           3\n",
       "Ante Zizic             23\n",
       "Anthony Davis          48\n",
       "Anthony Tolliver       17\n",
       "Antonio Blakeney       22\n",
       "Aron Baynes            16\n",
       "                       ..\n",
       "Tyler Zeller           15\n",
       "Tyreke Evans           27\n",
       "Tyrone Wallace         15\n",
       "Tyson Chandler         14\n",
       "Tyus Jones             16\n",
       "Udonis Haslem          12\n",
       "Victor Oladipo         36\n",
       "Vince Carter           21\n",
       "Vincent Edwards         3\n",
       "Wade Baldwin IV         5\n",
       "Walter Lemon Jr.       24\n",
       "Wayne Ellington        26\n",
       "Wayne Selden           20\n",
       "Wendell Carter Jr.     28\n",
       "Wes Iwundu             16\n",
       "Wesley Johnson         14\n",
       "Wesley Matthews        25\n",
       "Will Barton            23\n",
       "Willie Cauley-Stein    26\n",
       "Willy Hernangomez      22\n",
       "Wilson Chandler        15\n",
       "Yante Maten             2\n",
       "Yogi Ferrell           19\n",
       "Yuta Watanabe          10\n",
       "Zach Collins           18\n",
       "Zach LaVine            47\n",
       "Zach Lofton             0\n",
       "Zaza Pachulia          11\n",
       "Zhaire Smith           17\n",
       "Zhou Qi                 2\n",
       "Name: PTS, Length: 530, dtype: int64"
      ]
     },
     "execution_count": 159,
     "metadata": {},
     "output_type": "execute_result"
    }
   ],
   "source": [
    "player_grouped['PTS'].max()\n",
    "\n",
    "\n",
    "\n",
    "\n"
   ]
  },
  {
   "cell_type": "code",
   "execution_count": null,
   "metadata": {},
   "outputs": [],
   "source": []
  },
  {
   "cell_type": "code",
   "execution_count": null,
   "metadata": {},
   "outputs": [],
   "source": []
  },
  {
   "cell_type": "code",
   "execution_count": null,
   "metadata": {},
   "outputs": [],
   "source": []
  },
  {
   "cell_type": "code",
   "execution_count": 365,
   "metadata": {},
   "outputs": [
    {
     "data": {
      "text/html": [
       "<div>\n",
       "<style scoped>\n",
       "    .dataframe tbody tr th:only-of-type {\n",
       "        vertical-align: middle;\n",
       "    }\n",
       "\n",
       "    .dataframe tbody tr th {\n",
       "        vertical-align: top;\n",
       "    }\n",
       "\n",
       "    .dataframe thead th {\n",
       "        text-align: right;\n",
       "    }\n",
       "</style>\n",
       "<table border=\"1\" class=\"dataframe\">\n",
       "  <thead>\n",
       "    <tr style=\"text-align: right;\">\n",
       "      <th></th>\n",
       "      <th>DISPLAY_FIRST_LAST</th>\n",
       "      <th>PTS</th>\n",
       "    </tr>\n",
       "    <tr>\n",
       "      <th>DISPLAY_FIRST_LAST</th>\n",
       "      <th></th>\n",
       "      <th></th>\n",
       "    </tr>\n",
       "  </thead>\n",
       "  <tbody>\n",
       "    <tr>\n",
       "      <th>Sindarius Thornwell</th>\n",
       "      <td>64</td>\n",
       "      <td>62</td>\n",
       "    </tr>\n",
       "  </tbody>\n",
       "</table>\n",
       "</div>"
      ],
      "text/plain": [
       "                     DISPLAY_FIRST_LAST  PTS\n",
       "DISPLAY_FIRST_LAST                          \n",
       "Sindarius Thornwell                  64   62"
      ]
     },
     "execution_count": 365,
     "metadata": {},
     "output_type": "execute_result"
    }
   ],
   "source": [
    "players = df.groupby(['DISPLAY_FIRST_LAST']).agg({'DISPLAY_FIRST_LAST': 'count', 'PTS': 'sum'})\n",
    "psble_players = players.loc[players.DISPLAY_FIRST_LAST > 40]\n",
    "\n",
    "\n",
    "worse_player = psble_players.loc[psble_players.PTS == psble_players.PTS.min()]\n",
    "worse_player"
   ]
  },
  {
   "cell_type": "code",
   "execution_count": null,
   "metadata": {},
   "outputs": [],
   "source": [
    "# Gal\n",
    "\n",
    "# players = df.groupby(['DISPLAY_FIRST_LAST']).agg({'DISPLAY_FIRST_LAST': 'count', 'PTS': 'sum'})\n",
    "# psble_players = players.loc[players.DISPLAY_FIRST_LAST > 40]\n",
    "# worse_player = psble_players.loc[psble_players.PTS == psble_players.PTS.min()]\n",
    "# worse_player"
   ]
  },
  {
   "cell_type": "markdown",
   "metadata": {},
   "source": [
    "# Part 4: Pandas and Probability"
   ]
  },
  {
   "cell_type": "markdown",
   "metadata": {},
   "source": [
    "## 8: \n",
    "\n",
    "What is the probability that a random player had a game where they scored more than 40 points?"
   ]
  },
  {
   "cell_type": "code",
   "execution_count": 385,
   "metadata": {},
   "outputs": [
    {
     "name": "stdout",
     "output_type": "stream",
     "text": [
      "Percent is 0.52\n"
     ]
    }
   ],
   "source": [
    "p = len(df[df.PTS >= 40])/len(df)\n",
    "\n",
    "print('Percent is {}'.format(round(p*100, 2)))\n"
   ]
  },
  {
   "cell_type": "markdown",
   "metadata": {},
   "source": [
    "## 9:\n",
    "What is the probability that a randomly selected player from last season would average more than 20 points per game?"
   ]
  },
  {
   "cell_type": "code",
   "execution_count": 388,
   "metadata": {},
   "outputs": [
    {
     "data": {
      "text/plain": [
       "33"
      ]
     },
     "execution_count": 388,
     "metadata": {},
     "output_type": "execute_result"
    }
   ],
   "source": [
    "# Sean\n",
    "import numpy as np\n",
    "np.sum(player_grouped['PTS'].mean()>20)"
   ]
  },
  {
   "cell_type": "markdown",
   "metadata": {},
   "source": [
    "# Advanced Questions"
   ]
  },
  {
   "cell_type": "markdown",
   "metadata": {},
   "source": [
    "## 10: \n",
    "Find the player who scored the least amount of points while playing in at least 40 games and averageing at least 15 minutes per game last season."
   ]
  },
  {
   "cell_type": "code",
   "execution_count": null,
   "metadata": {},
   "outputs": [],
   "source": [
    "player_grouped.aggregate({'playr_id': 'count', mean: mean, pts: sum}).query..........."
   ]
  },
  {
   "cell_type": "markdown",
   "metadata": {},
   "source": [
    "## 11: \n",
    "Which player scored the largest share of points for their team throughout the season."
   ]
  },
  {
   "cell_type": "code",
   "execution_count": null,
   "metadata": {},
   "outputs": [],
   "source": [
    "#your code here"
   ]
  },
  {
   "cell_type": "markdown",
   "metadata": {},
   "source": [
    "## 12:\n",
    "\n",
    "What is the probability that a randomly selected player had at least one game in which they scored 40 points last season. "
   ]
  },
  {
   "cell_type": "code",
   "execution_count": null,
   "metadata": {},
   "outputs": [],
   "source": [
    "# your code here"
   ]
  },
  {
   "cell_type": "markdown",
   "metadata": {},
   "source": [
    "## 13: \n",
    "\n",
    "A double-double is when a player records for any of the two follow categories: points, rebounds, assists, steals, or blocks. \n",
    "What is the probability that a randomly selected player had a double-double in a game last season?\n"
   ]
  },
  {
   "cell_type": "code",
   "execution_count": null,
   "metadata": {},
   "outputs": [],
   "source": [
    "#your code here"
   ]
  },
  {
   "cell_type": "markdown",
   "metadata": {},
   "source": [
    "## 14:\n",
    "\n",
    "What is the probability that a randomnly selected game had a player record a triple-double in that game?"
   ]
  },
  {
   "cell_type": "code",
   "execution_count": null,
   "metadata": {},
   "outputs": [],
   "source": [
    "#your code here"
   ]
  },
  {
   "cell_type": "markdown",
   "metadata": {},
   "source": [
    "# Part 5: Super Duper Challenge\n",
    "\n"
   ]
  },
  {
   "cell_type": "markdown",
   "metadata": {},
   "source": [
    "## 15:\n",
    "\n",
    "How many players last season averaged more points per game than their career average?"
   ]
  },
  {
   "cell_type": "code",
   "execution_count": null,
   "metadata": {},
   "outputs": [],
   "source": []
  }
 ],
 "metadata": {
  "kernelspec": {
   "display_name": "Python 3",
   "language": "python",
   "name": "python3"
  },
  "language_info": {
   "codemirror_mode": {
    "name": "ipython",
    "version": 3
   },
   "file_extension": ".py",
   "mimetype": "text/x-python",
   "name": "python",
   "nbconvert_exporter": "python",
   "pygments_lexer": "ipython3",
   "version": "3.7.3"
  }
 },
 "nbformat": 4,
 "nbformat_minor": 2
}
