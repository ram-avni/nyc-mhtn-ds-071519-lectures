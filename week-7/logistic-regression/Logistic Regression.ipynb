{
 "cells": [
  {
   "cell_type": "markdown",
   "metadata": {},
   "source": [
    "<h1 style='text-align: center'> Logistic Regression </h1> "
   ]
  },
  {
   "cell_type": "markdown",
   "metadata": {},
   "source": [
    "### What is classification? "
   ]
  },
  {
   "cell_type": "markdown",
   "metadata": {},
   "source": [
    "A classification problem is when the output variable of your model is a category, such as “red” or “blue” or “disease” and “no disease”. Training a classification models involves \"teaching\" a computer to categorize data correctly. "
   ]
  },
  {
   "cell_type": "markdown",
   "metadata": {},
   "source": [
    "##### Classification Models"
   ]
  },
  {
   "cell_type": "markdown",
   "metadata": {},
   "source": [
    "- logistic regression \n",
    "- KNN\n",
    "- decision tree \n",
    "- random forest \n",
    "- gradient-boosted tree\n",
    "- multilayer perceptrons (neural networks)\n",
    "- support vector machines \n",
    "- Naive Bayes"
   ]
  },
  {
   "cell_type": "markdown",
   "metadata": {},
   "source": [
    "##### Which of the following is/are classification problem(s)?"
   ]
  },
  {
   "cell_type": "markdown",
   "metadata": {},
   "source": [
    "Predicting what genre of music a certain song is\n",
    "\n",
    "Predicting house price based on area\n",
    "\n",
    "Predicting whether monsoon will be normal next year\n",
    "\n",
    "Predict the number of copies a music album will be sold next month"
   ]
  },
  {
   "cell_type": "markdown",
   "metadata": {},
   "source": [
    "### Binary Classification"
   ]
  },
  {
   "cell_type": "code",
   "execution_count": 13,
   "metadata": {},
   "outputs": [
    {
     "data": {
      "text/plain": [
       "[5, 6]"
      ]
     },
     "execution_count": 13,
     "metadata": {},
     "output_type": "execute_result"
    }
   ],
   "source": [
    "x = 9//2\n",
    "x\n",
    "a = [1,2,3,4,5,6]\n",
    "b = a[4:]\n",
    "b\n"
   ]
  },
  {
   "cell_type": "code",
   "execution_count": 46,
   "metadata": {},
   "outputs": [],
   "source": [
    "import pandas as pd\n",
    "import numpy as np\n",
    "import matplotlib.pyplot as plt"
   ]
  },
  {
   "cell_type": "markdown",
   "metadata": {},
   "source": [
    "**Let's predict if we'll make a shot conditioned on how far we are from the basket**"
   ]
  },
  {
   "cell_type": "code",
   "execution_count": 120,
   "metadata": {},
   "outputs": [],
   "source": [
    "makes = [1,1,1,1,1,1,1,1,1,1,0,1,1,1,1,0,0,1,0,1,0,0,0,0,0,0,0,0,0,0]    # <- if you made the shot then this is 1\n",
    "distance = [i for i in range(30)]\n",
    "#make numpy arrays\n",
    "distance = np.array(distance).reshape(-1,1)\n",
    "makes = np.array(makes).reshape(-1)"
   ]
  },
  {
   "cell_type": "code",
   "execution_count": 118,
   "metadata": {
    "scrolled": false
   },
   "outputs": [
    {
     "data": {
      "image/png": "[encoded data removed]",
      "text/plain": [
       "<Figure size 432x288 with 1 Axes>"
      ]
     },
     "metadata": {
      "needs_background": "light"
     },
     "output_type": "display_data"
    }
   ],
   "source": [
    "fig, ax = plt.subplots()\n",
    "ax.scatter(distance,makes)\n",
    "plt.show()"
   ]
  },
  {
   "cell_type": "markdown",
   "metadata": {},
   "source": [
    "#### Linear Regression?"
   ]
  },
  {
   "cell_type": "code",
   "execution_count": 49,
   "metadata": {},
   "outputs": [],
   "source": [
    "from sklearn.linear_model import LinearRegression"
   ]
  },
  {
   "cell_type": "code",
   "execution_count": 50,
   "metadata": {},
   "outputs": [],
   "source": [
    "lr = LinearRegression()"
   ]
  },
  {
   "cell_type": "code",
   "execution_count": 127,
   "metadata": {},
   "outputs": [],
   "source": [
    "lr.fit(distance, makes)\n",
    "# generate predictions\n",
    "predictions = lr.predict(np.array(distance).reshape(-1,1))"
   ]
  },
  {
   "cell_type": "code",
   "execution_count": 128,
   "metadata": {
    "scrolled": false
   },
   "outputs": [
    {
     "data": {
      "text/plain": [
       "<matplotlib.collections.PathCollection at 0x128443fd0>"
      ]
     },
     "execution_count": 128,
     "metadata": {},
     "output_type": "execute_result"
    },
    {
     "data": {
      "image/png": "[encoded data removed]",
      "text/plain": [
       "<Figure size 432x288 with 1 Axes>"
      ]
     },
     "metadata": {
      "needs_background": "light"
     },
     "output_type": "display_data"
    }
   ],
   "source": [
    "fig, ax = plt.subplots()\n",
    "ax.scatter(distance,makes)\n",
    "# plot linear regression predictions\n",
    "ax.scatter(distance, predictions)"
   ]
  },
  {
   "cell_type": "markdown",
   "metadata": {},
   "source": [
    "<img src='images/meh.gif'/>"
   ]
  },
  {
   "cell_type": "markdown",
   "metadata": {
    "heading_collapsed": true
   },
   "source": [
    "##### Why is this not great? "
   ]
  },
  {
   "cell_type": "markdown",
   "metadata": {},
   "source": [
    "#### Logistic Regression"
   ]
  },
  {
   "cell_type": "markdown",
   "metadata": {},
   "source": [
    "Logistic regression tries to \"squish\" our predictions into values between 0 and 1 to represent probabilities of a single data point belonging to class. "
   ]
  },
  {
   "cell_type": "code",
   "execution_count": 129,
   "metadata": {},
   "outputs": [
    {
     "data": {
      "text/plain": [
       "LogisticRegression(C=1.0, class_weight=None, dual=False, fit_intercept=True,\n",
       "          intercept_scaling=1, max_iter=100, multi_class='warn',\n",
       "          n_jobs=None, penalty='l2', random_state=None, solver='newton-cg',\n",
       "          tol=0.0001, verbose=0, warm_start=False)"
      ]
     },
     "execution_count": 129,
     "metadata": {},
     "output_type": "execute_result"
    }
   ],
   "source": [
    "from sklearn.linear_model import LogisticRegression\n",
    "log_reg = LogisticRegression(solver='newton-cg')\n",
    "log_reg.fit(distance, makes)"
   ]
  },
  {
   "cell_type": "code",
   "execution_count": 130,
   "metadata": {},
   "outputs": [],
   "source": [
    "prob_1 = [proba[1] for proba in log_reg.predict_proba(distance)]"
   ]
  },
  {
   "cell_type": "code",
   "execution_count": 131,
   "metadata": {
    "scrolled": false
   },
   "outputs": [
    {
     "data": {
      "text/plain": [
       "<matplotlib.collections.PathCollection at 0x1282ccf28>"
      ]
     },
     "execution_count": 131,
     "metadata": {},
     "output_type": "execute_result"
    },
    {
     "data": {
      "image/png": "[encoded data removed]",
      "text/plain": [
       "<Figure size 432x288 with 1 Axes>"
      ]
     },
     "metadata": {
      "needs_background": "light"
     },
     "output_type": "display_data"
    }
   ],
   "source": [
    "fig, ax = plt.subplots()\n",
    "ax.scatter(distance,makes)\n",
    "ax.scatter(distance, prob_1)\n",
    "# plt.show()"
   ]
  },
  {
   "cell_type": "markdown",
   "metadata": {},
   "source": [
    "Each point is the probability that it belongs to the positive (1) class"
   ]
  },
  {
   "cell_type": "markdown",
   "metadata": {},
   "source": [
    "#### Review : What is a linear model? "
   ]
  },
  {
   "cell_type": "markdown",
   "metadata": {},
   "source": [
    "<img src='images/ratatouille.gif'/>"
   ]
  },
  {
   "cell_type": "markdown",
   "metadata": {},
   "source": [
    "Logistic regression is defined by this equation : "
   ]
  },
  {
   "cell_type": "markdown",
   "metadata": {},
   "source": [
    "<center>$Pr(Y_i=1|X_i) = {\\frac{exp(\\beta_0 + \\beta_1X_i)}{1 + exp (\\beta_0 + \\beta_1X_i)}}$</center>"
   ]
  },
  {
   "cell_type": "markdown",
   "metadata": {},
   "source": [
    "##### What is $\\beta_0 + \\beta_1X_i$? What does it give us? "
   ]
  },
  {
   "cell_type": "markdown",
   "metadata": {},
   "source": [
    "What are odds? "
   ]
  },
  {
   "cell_type": "markdown",
   "metadata": {},
   "source": [
    "The odds of an event represent the ratio of the (probability that the event will occur) / (probability that the event will not occur). This could be expressed as follows:"
   ]
  },
  {
   "cell_type": "markdown",
   "metadata": {},
   "source": [
    "Odds of event = $ Y / (1-Y) $"
   ]
  },
  {
   "cell_type": "markdown",
   "metadata": {},
   "source": [
    "<b>The value of odds range from 0 to ${\\infty}$</b>"
   ]
  },
  {
   "cell_type": "markdown",
   "metadata": {},
   "source": [
    "<b>When you take the log of the odds the values range from $-{\\infty}$ to ${\\infty}$</b>"
   ]
  },
  {
   "cell_type": "markdown",
   "metadata": {},
   "source": [
    "Why might this be important?\n",
    "\n",
    "\n",
    "** Hint ** : Think about linear regression and the relationship between coefficients and the dependent variable. "
   ]
  },
  {
   "cell_type": "markdown",
   "metadata": {},
   "source": [
    "<img src='images/banana_stretch.gif'/>"
   ]
  },
  {
   "cell_type": "markdown",
   "metadata": {},
   "source": [
    "#### The coefficients"
   ]
  },
  {
   "cell_type": "markdown",
   "metadata": {},
   "source": [
    "<b>How do we interpret our coefficients?<b>"
   ]
  },
  {
   "cell_type": "markdown",
   "metadata": {},
   "source": [
    "<b>How do we determine the best coefficients? </b>\n",
    "\n",
    "They are determined using a combination of maximum likelihood estimation and gradient descent but the specifics are outside of the scope of this class but additional resources are available below, if you would like to explore further. "
   ]
  },
  {
   "cell_type": "markdown",
   "metadata": {},
   "source": [
    "#### Additional Resources\n",
    "\n",
    "- https://www.youtube.com/watch?v=vN5cNN2-HWE (Parts 1 - 3) \n",
    "\n",
    "- https://www.theanalysisfactor.com/why-use-odds-ratios/\n",
    "\n",
    "- https://zlatankr.github.io/posts/2017/03/06/mle-gradient-descent (If you want to understand MLE and how parameters are found) \n",
    "\n",
    "- https://www.kaggle.com/mbkinaci/comprehensive-eda-on-r-with-logistic-regression (Good examples of EDA for classification problems) "
   ]
  },
  {
   "cell_type": "markdown",
   "metadata": {},
   "source": [
    "#### Try it yourself! "
   ]
  },
  {
   "cell_type": "markdown",
   "metadata": {},
   "source": [
    "Use the dataset below to predict whether it is going to rain in Australia tomorrow."
   ]
  },
  {
   "cell_type": "code",
   "execution_count": 132,
   "metadata": {},
   "outputs": [],
   "source": [
    "import pandas as pd"
   ]
  },
  {
   "cell_type": "code",
   "execution_count": 133,
   "metadata": {},
   "outputs": [],
   "source": [
    "df = pd.read_csv('weatherAUS.csv')"
   ]
  },
  {
   "cell_type": "markdown",
   "metadata": {
    "heading_collapsed": true
   },
   "source": [
    "##### Cleaning"
   ]
  },
  {
   "cell_type": "code",
   "execution_count": 134,
   "metadata": {
    "hidden": true
   },
   "outputs": [
    {
     "data": {
      "text/plain": [
       "Date                 0\n",
       "Location             0\n",
       "MinTemp            637\n",
       "MaxTemp            322\n",
       "Rainfall          1406\n",
       "Evaporation      60843\n",
       "Sunshine         67816\n",
       "WindGustDir       9330\n",
       "WindGustSpeed     9270\n",
       "WindDir9am       10013\n",
       "WindDir3pm        3778\n",
       "WindSpeed9am      1348\n",
       "WindSpeed3pm      2630\n",
       "Humidity9am       1774\n",
       "Humidity3pm       3610\n",
       "Pressure9am      14014\n",
       "Pressure3pm      13981\n",
       "Cloud9am         53657\n",
       "Cloud3pm         57094\n",
       "Temp9am            904\n",
       "Temp3pm           2726\n",
       "RainToday         1406\n",
       "RISK_MM              0\n",
       "RainTomorrow         0\n",
       "dtype: int64"
      ]
     },
     "execution_count": 134,
     "metadata": {},
     "output_type": "execute_result"
    }
   ],
   "source": [
    "#check for null values\n",
    "df.isna().sum()"
   ]
  },
  {
   "cell_type": "code",
   "execution_count": 135,
   "metadata": {
    "hidden": true
   },
   "outputs": [
    {
     "data": {
      "text/plain": [
       "(142193, 24)"
      ]
     },
     "execution_count": 135,
     "metadata": {},
     "output_type": "execute_result"
    }
   ],
   "source": [
    "df.shape"
   ]
  },
  {
   "cell_type": "code",
   "execution_count": 136,
   "metadata": {
    "hidden": true
   },
   "outputs": [],
   "source": [
    "#drop columns that account > ~ 10% NaN values\n",
    "df.drop(columns=['Evaporation', 'Sunshine',  'Pressure9am', 'Cloud9am', 'Cloud3pm'],  inplace=True)"
   ]
  },
  {
   "cell_type": "code",
   "execution_count": 137,
   "metadata": {
    "hidden": true
   },
   "outputs": [],
   "source": [
    "#drop rows with NaN values\n",
    "df.dropna(inplace=True)"
   ]
  },
  {
   "cell_type": "code",
   "execution_count": 138,
   "metadata": {
    "hidden": true
   },
   "outputs": [
    {
     "data": {
      "text/plain": [
       "Date             0\n",
       "Location         0\n",
       "MinTemp          0\n",
       "MaxTemp          0\n",
       "Rainfall         0\n",
       "WindGustDir      0\n",
       "WindGustSpeed    0\n",
       "WindDir9am       0\n",
       "WindDir3pm       0\n",
       "WindSpeed9am     0\n",
       "WindSpeed3pm     0\n",
       "Humidity9am      0\n",
       "Humidity3pm      0\n",
       "Pressure3pm      0\n",
       "Temp9am          0\n",
       "Temp3pm          0\n",
       "RainToday        0\n",
       "RISK_MM          0\n",
       "RainTomorrow     0\n",
       "dtype: int64"
      ]
     },
     "execution_count": 138,
     "metadata": {},
     "output_type": "execute_result"
    }
   ],
   "source": [
    "df.isna().sum()"
   ]
  },
  {
   "cell_type": "code",
   "execution_count": 139,
   "metadata": {
    "hidden": true,
    "scrolled": false
   },
   "outputs": [
    {
     "data": {
      "text/plain": [
       "(113011, 19)"
      ]
     },
     "execution_count": 139,
     "metadata": {},
     "output_type": "execute_result"
    }
   ],
   "source": [
    "df.shape"
   ]
  },
  {
   "cell_type": "markdown",
   "metadata": {
    "heading_collapsed": true
   },
   "source": [
    "##### EDA"
   ]
  },
  {
   "cell_type": "code",
   "execution_count": 140,
   "metadata": {
    "hidden": true,
    "scrolled": false
   },
   "outputs": [
    {
     "data": {
      "text/html": [
       "<div>\n",
       "<style scoped>\n",
       "    .dataframe tbody tr th:only-of-type {\n",
       "        vertical-align: middle;\n",
       "    }\n",
       "\n",
       "    .dataframe tbody tr th {\n",
       "        vertical-align: top;\n",
       "    }\n",
       "\n",
       "    .dataframe thead th {\n",
       "        text-align: right;\n",
       "    }\n",
       "</style>\n",
       "<table border=\"1\" class=\"dataframe\">\n",
       "  <thead>\n",
       "    <tr style=\"text-align: right;\">\n",
       "      <th></th>\n",
       "      <th>Date</th>\n",
       "      <th>Location</th>\n",
       "      <th>MinTemp</th>\n",
       "      <th>MaxTemp</th>\n",
       "      <th>Rainfall</th>\n",
       "      <th>WindGustDir</th>\n",
       "      <th>WindGustSpeed</th>\n",
       "      <th>WindDir9am</th>\n",
       "      <th>WindDir3pm</th>\n",
       "      <th>WindSpeed9am</th>\n",
       "      <th>WindSpeed3pm</th>\n",
       "      <th>Humidity9am</th>\n",
       "      <th>Humidity3pm</th>\n",
       "      <th>Pressure3pm</th>\n",
       "      <th>Temp9am</th>\n",
       "      <th>Temp3pm</th>\n",
       "      <th>RainToday</th>\n",
       "      <th>RISK_MM</th>\n",
       "      <th>RainTomorrow</th>\n",
       "    </tr>\n",
       "  </thead>\n",
       "  <tbody>\n",
       "    <tr>\n",
       "      <th>0</th>\n",
       "      <td>2008-12-01</td>\n",
       "      <td>Albury</td>\n",
       "      <td>13.4</td>\n",
       "      <td>22.9</td>\n",
       "      <td>0.6</td>\n",
       "      <td>W</td>\n",
       "      <td>44.0</td>\n",
       "      <td>W</td>\n",
       "      <td>WNW</td>\n",
       "      <td>20.0</td>\n",
       "      <td>24.0</td>\n",
       "      <td>71.0</td>\n",
       "      <td>22.0</td>\n",
       "      <td>1007.1</td>\n",
       "      <td>16.9</td>\n",
       "      <td>21.8</td>\n",
       "      <td>No</td>\n",
       "      <td>0.0</td>\n",
       "      <td>No</td>\n",
       "    </tr>\n",
       "    <tr>\n",
       "      <th>1</th>\n",
       "      <td>2008-12-02</td>\n",
       "      <td>Albury</td>\n",
       "      <td>7.4</td>\n",
       "      <td>25.1</td>\n",
       "      <td>0.0</td>\n",
       "      <td>WNW</td>\n",
       "      <td>44.0</td>\n",
       "      <td>NNW</td>\n",
       "      <td>WSW</td>\n",
       "      <td>4.0</td>\n",
       "      <td>22.0</td>\n",
       "      <td>44.0</td>\n",
       "      <td>25.0</td>\n",
       "      <td>1007.8</td>\n",
       "      <td>17.2</td>\n",
       "      <td>24.3</td>\n",
       "      <td>No</td>\n",
       "      <td>0.0</td>\n",
       "      <td>No</td>\n",
       "    </tr>\n",
       "    <tr>\n",
       "      <th>2</th>\n",
       "      <td>2008-12-03</td>\n",
       "      <td>Albury</td>\n",
       "      <td>12.9</td>\n",
       "      <td>25.7</td>\n",
       "      <td>0.0</td>\n",
       "      <td>WSW</td>\n",
       "      <td>46.0</td>\n",
       "      <td>W</td>\n",
       "      <td>WSW</td>\n",
       "      <td>19.0</td>\n",
       "      <td>26.0</td>\n",
       "      <td>38.0</td>\n",
       "      <td>30.0</td>\n",
       "      <td>1008.7</td>\n",
       "      <td>21.0</td>\n",
       "      <td>23.2</td>\n",
       "      <td>No</td>\n",
       "      <td>0.0</td>\n",
       "      <td>No</td>\n",
       "    </tr>\n",
       "    <tr>\n",
       "      <th>3</th>\n",
       "      <td>2008-12-04</td>\n",
       "      <td>Albury</td>\n",
       "      <td>9.2</td>\n",
       "      <td>28.0</td>\n",
       "      <td>0.0</td>\n",
       "      <td>NE</td>\n",
       "      <td>24.0</td>\n",
       "      <td>SE</td>\n",
       "      <td>E</td>\n",
       "      <td>11.0</td>\n",
       "      <td>9.0</td>\n",
       "      <td>45.0</td>\n",
       "      <td>16.0</td>\n",
       "      <td>1012.8</td>\n",
       "      <td>18.1</td>\n",
       "      <td>26.5</td>\n",
       "      <td>No</td>\n",
       "      <td>1.0</td>\n",
       "      <td>No</td>\n",
       "    </tr>\n",
       "    <tr>\n",
       "      <th>4</th>\n",
       "      <td>2008-12-05</td>\n",
       "      <td>Albury</td>\n",
       "      <td>17.5</td>\n",
       "      <td>32.3</td>\n",
       "      <td>1.0</td>\n",
       "      <td>W</td>\n",
       "      <td>41.0</td>\n",
       "      <td>ENE</td>\n",
       "      <td>NW</td>\n",
       "      <td>7.0</td>\n",
       "      <td>20.0</td>\n",
       "      <td>82.0</td>\n",
       "      <td>33.0</td>\n",
       "      <td>1006.0</td>\n",
       "      <td>17.8</td>\n",
       "      <td>29.7</td>\n",
       "      <td>No</td>\n",
       "      <td>0.2</td>\n",
       "      <td>No</td>\n",
       "    </tr>\n",
       "  </tbody>\n",
       "</table>\n",
       "</div>"
      ],
      "text/plain": [
       "         Date Location  MinTemp  MaxTemp  Rainfall WindGustDir  WindGustSpeed  \\\n",
       "0  2008-12-01   Albury     13.4     22.9       0.6           W           44.0   \n",
       "1  2008-12-02   Albury      7.4     25.1       0.0         WNW           44.0   \n",
       "2  2008-12-03   Albury     12.9     25.7       0.0         WSW           46.0   \n",
       "3  2008-12-04   Albury      9.2     28.0       0.0          NE           24.0   \n",
       "4  2008-12-05   Albury     17.5     32.3       1.0           W           41.0   \n",
       "\n",
       "  WindDir9am WindDir3pm  WindSpeed9am  WindSpeed3pm  Humidity9am  Humidity3pm  \\\n",
       "0          W        WNW          20.0          24.0         71.0         22.0   \n",
       "1        NNW        WSW           4.0          22.0         44.0         25.0   \n",
       "2          W        WSW          19.0          26.0         38.0         30.0   \n",
       "3         SE          E          11.0           9.0         45.0         16.0   \n",
       "4        ENE         NW           7.0          20.0         82.0         33.0   \n",
       "\n",
       "   Pressure3pm  Temp9am  Temp3pm RainToday  RISK_MM RainTomorrow  \n",
       "0       1007.1     16.9     21.8        No      0.0           No  \n",
       "1       1007.8     17.2     24.3        No      0.0           No  \n",
       "2       1008.7     21.0     23.2        No      0.0           No  \n",
       "3       1012.8     18.1     26.5        No      1.0           No  \n",
       "4       1006.0     17.8     29.7        No      0.2           No  "
      ]
     },
     "execution_count": 140,
     "metadata": {},
     "output_type": "execute_result"
    }
   ],
   "source": [
    "df.head()\n",
    "# df['Location'].value_counts()\n"
   ]
  },
  {
   "cell_type": "code",
   "execution_count": 65,
   "metadata": {
    "hidden": true,
    "scrolled": true
   },
   "outputs": [
    {
     "data": {
      "text/plain": [
       "No     87972\n",
       "Yes    25039\n",
       "Name: RainTomorrow, dtype: int64"
      ]
     },
     "execution_count": 65,
     "metadata": {},
     "output_type": "execute_result"
    }
   ],
   "source": [
    "#how many of each class do we have? \n",
    "df.RainTomorrow.value_counts()"
   ]
  },
  {
   "cell_type": "code",
   "execution_count": 66,
   "metadata": {},
   "outputs": [
    {
     "data": {
      "text/html": [
       "<div>\n",
       "<style scoped>\n",
       "    .dataframe tbody tr th:only-of-type {\n",
       "        vertical-align: middle;\n",
       "    }\n",
       "\n",
       "    .dataframe tbody tr th {\n",
       "        vertical-align: top;\n",
       "    }\n",
       "\n",
       "    .dataframe thead th {\n",
       "        text-align: right;\n",
       "    }\n",
       "</style>\n",
       "<table border=\"1\" class=\"dataframe\">\n",
       "  <thead>\n",
       "    <tr style=\"text-align: right;\">\n",
       "      <th></th>\n",
       "      <th>W9__ENE</th>\n",
       "      <th>W9__ESE</th>\n",
       "      <th>W9__N</th>\n",
       "      <th>W9__NE</th>\n",
       "      <th>W9__NNE</th>\n",
       "      <th>W9__NNW</th>\n",
       "      <th>W9__NW</th>\n",
       "      <th>W9__S</th>\n",
       "      <th>W9__SE</th>\n",
       "      <th>W9__SSE</th>\n",
       "      <th>...</th>\n",
       "      <th>WG__NNW</th>\n",
       "      <th>WG__NW</th>\n",
       "      <th>WG__S</th>\n",
       "      <th>WG__SE</th>\n",
       "      <th>WG__SSE</th>\n",
       "      <th>WG__SSW</th>\n",
       "      <th>WG__SW</th>\n",
       "      <th>WG__W</th>\n",
       "      <th>WG__WNW</th>\n",
       "      <th>WG__WSW</th>\n",
       "    </tr>\n",
       "  </thead>\n",
       "  <tbody>\n",
       "    <tr>\n",
       "      <th>0</th>\n",
       "      <td>0</td>\n",
       "      <td>0</td>\n",
       "      <td>0</td>\n",
       "      <td>0</td>\n",
       "      <td>0</td>\n",
       "      <td>0</td>\n",
       "      <td>0</td>\n",
       "      <td>0</td>\n",
       "      <td>0</td>\n",
       "      <td>0</td>\n",
       "      <td>...</td>\n",
       "      <td>0</td>\n",
       "      <td>0</td>\n",
       "      <td>0</td>\n",
       "      <td>0</td>\n",
       "      <td>0</td>\n",
       "      <td>0</td>\n",
       "      <td>0</td>\n",
       "      <td>1</td>\n",
       "      <td>0</td>\n",
       "      <td>0</td>\n",
       "    </tr>\n",
       "    <tr>\n",
       "      <th>1</th>\n",
       "      <td>0</td>\n",
       "      <td>0</td>\n",
       "      <td>0</td>\n",
       "      <td>0</td>\n",
       "      <td>0</td>\n",
       "      <td>1</td>\n",
       "      <td>0</td>\n",
       "      <td>0</td>\n",
       "      <td>0</td>\n",
       "      <td>0</td>\n",
       "      <td>...</td>\n",
       "      <td>0</td>\n",
       "      <td>0</td>\n",
       "      <td>0</td>\n",
       "      <td>0</td>\n",
       "      <td>0</td>\n",
       "      <td>0</td>\n",
       "      <td>0</td>\n",
       "      <td>0</td>\n",
       "      <td>1</td>\n",
       "      <td>0</td>\n",
       "    </tr>\n",
       "    <tr>\n",
       "      <th>2</th>\n",
       "      <td>0</td>\n",
       "      <td>0</td>\n",
       "      <td>0</td>\n",
       "      <td>0</td>\n",
       "      <td>0</td>\n",
       "      <td>0</td>\n",
       "      <td>0</td>\n",
       "      <td>0</td>\n",
       "      <td>0</td>\n",
       "      <td>0</td>\n",
       "      <td>...</td>\n",
       "      <td>0</td>\n",
       "      <td>0</td>\n",
       "      <td>0</td>\n",
       "      <td>0</td>\n",
       "      <td>0</td>\n",
       "      <td>0</td>\n",
       "      <td>0</td>\n",
       "      <td>0</td>\n",
       "      <td>0</td>\n",
       "      <td>1</td>\n",
       "    </tr>\n",
       "    <tr>\n",
       "      <th>3</th>\n",
       "      <td>0</td>\n",
       "      <td>0</td>\n",
       "      <td>0</td>\n",
       "      <td>0</td>\n",
       "      <td>0</td>\n",
       "      <td>0</td>\n",
       "      <td>0</td>\n",
       "      <td>0</td>\n",
       "      <td>1</td>\n",
       "      <td>0</td>\n",
       "      <td>...</td>\n",
       "      <td>0</td>\n",
       "      <td>0</td>\n",
       "      <td>0</td>\n",
       "      <td>0</td>\n",
       "      <td>0</td>\n",
       "      <td>0</td>\n",
       "      <td>0</td>\n",
       "      <td>0</td>\n",
       "      <td>0</td>\n",
       "      <td>0</td>\n",
       "    </tr>\n",
       "    <tr>\n",
       "      <th>4</th>\n",
       "      <td>1</td>\n",
       "      <td>0</td>\n",
       "      <td>0</td>\n",
       "      <td>0</td>\n",
       "      <td>0</td>\n",
       "      <td>0</td>\n",
       "      <td>0</td>\n",
       "      <td>0</td>\n",
       "      <td>0</td>\n",
       "      <td>0</td>\n",
       "      <td>...</td>\n",
       "      <td>0</td>\n",
       "      <td>0</td>\n",
       "      <td>0</td>\n",
       "      <td>0</td>\n",
       "      <td>0</td>\n",
       "      <td>0</td>\n",
       "      <td>0</td>\n",
       "      <td>1</td>\n",
       "      <td>0</td>\n",
       "      <td>0</td>\n",
       "    </tr>\n",
       "  </tbody>\n",
       "</table>\n",
       "<p>5 rows × 45 columns</p>\n",
       "</div>"
      ],
      "text/plain": [
       "   W9__ENE  W9__ESE  W9__N  W9__NE  W9__NNE  W9__NNW  W9__NW  W9__S  W9__SE  \\\n",
       "0        0        0      0       0        0        0       0      0       0   \n",
       "1        0        0      0       0        0        1       0      0       0   \n",
       "2        0        0      0       0        0        0       0      0       0   \n",
       "3        0        0      0       0        0        0       0      0       1   \n",
       "4        1        0      0       0        0        0       0      0       0   \n",
       "\n",
       "   W9__SSE  ...  WG__NNW  WG__NW  WG__S  WG__SE  WG__SSE  WG__SSW  WG__SW  \\\n",
       "0        0  ...        0       0      0       0        0        0       0   \n",
       "1        0  ...        0       0      0       0        0        0       0   \n",
       "2        0  ...        0       0      0       0        0        0       0   \n",
       "3        0  ...        0       0      0       0        0        0       0   \n",
       "4        0  ...        0       0      0       0        0        0       0   \n",
       "\n",
       "   WG__W  WG__WNW  WG__WSW  \n",
       "0      1        0        0  \n",
       "1      0        1        0  \n",
       "2      0        0        1  \n",
       "3      0        0        0  \n",
       "4      1        0        0  \n",
       "\n",
       "[5 rows x 45 columns]"
      ]
     },
     "execution_count": 66,
     "metadata": {},
     "output_type": "execute_result"
    }
   ],
   "source": [
    "dum = pd.get_dummies(df['WindDir9am'], prefix = 'W9_',drop_first=True)\n",
    "dum2 = pd.get_dummies(df['WindDir3pm'], prefix = 'W3_',drop_first=True)\n",
    "dum3 = pd.get_dummies(df['WindGustDir'], prefix = 'WG_',drop_first=True)\n",
    "new_df = pd.concat([dum, dum2, dum3], axis=1)\n",
    "\n",
    "new_df.head()"
   ]
  },
  {
   "cell_type": "code",
   "execution_count": 67,
   "metadata": {},
   "outputs": [
    {
     "data": {
      "text/plain": [
       "Index(['Date', 'Location', 'MinTemp', 'MaxTemp', 'Rainfall', 'WindGustSpeed',\n",
       "       'WindSpeed9am', 'WindSpeed3pm', 'Humidity9am', 'Humidity3pm',\n",
       "       'Pressure3pm', 'Temp9am', 'Temp3pm', 'RainToday', 'RISK_MM',\n",
       "       'RainTomorrow', 'W9__ENE', 'W9__ESE', 'W9__N', 'W9__NE', 'W9__NNE',\n",
       "       'W9__NNW', 'W9__NW', 'W9__S', 'W9__SE', 'W9__SSE', 'W9__SSW', 'W9__SW',\n",
       "       'W9__W', 'W9__WNW', 'W9__WSW', 'W3__ENE', 'W3__ESE', 'W3__N', 'W3__NE',\n",
       "       'W3__NNE', 'W3__NNW', 'W3__NW', 'W3__S', 'W3__SE', 'W3__SSE', 'W3__SSW',\n",
       "       'W3__SW', 'W3__W', 'W3__WNW', 'W3__WSW', 'WG__ENE', 'WG__ESE', 'WG__N',\n",
       "       'WG__NE', 'WG__NNE', 'WG__NNW', 'WG__NW', 'WG__S', 'WG__SE', 'WG__SSE',\n",
       "       'WG__SSW', 'WG__SW', 'WG__W', 'WG__WNW', 'WG__WSW'],\n",
       "      dtype='object')"
      ]
     },
     "execution_count": 67,
     "metadata": {},
     "output_type": "execute_result"
    }
   ],
   "source": [
    "df1 = df.drop(['WindDir9am', 'WindGustDir', 'WindDir3pm'], axis=1)\n",
    "new_df = pd.concat([df1, dum, dum2, dum3], axis=1)\n",
    "new_df.columns"
   ]
  },
  {
   "cell_type": "code",
   "execution_count": 68,
   "metadata": {
    "hidden": true
   },
   "outputs": [
    {
     "data": {
      "text/html": [
       "<div>\n",
       "<style scoped>\n",
       "    .dataframe tbody tr th:only-of-type {\n",
       "        vertical-align: middle;\n",
       "    }\n",
       "\n",
       "    .dataframe tbody tr th {\n",
       "        vertical-align: top;\n",
       "    }\n",
       "\n",
       "    .dataframe thead th {\n",
       "        text-align: right;\n",
       "    }\n",
       "</style>\n",
       "<table border=\"1\" class=\"dataframe\">\n",
       "  <thead>\n",
       "    <tr style=\"text-align: right;\">\n",
       "      <th></th>\n",
       "      <th>MinTemp</th>\n",
       "      <th>MaxTemp</th>\n",
       "      <th>Rainfall</th>\n",
       "      <th>WindGustSpeed</th>\n",
       "      <th>WindSpeed9am</th>\n",
       "      <th>WindSpeed3pm</th>\n",
       "      <th>Humidity9am</th>\n",
       "      <th>Humidity3pm</th>\n",
       "      <th>Pressure3pm</th>\n",
       "      <th>Temp9am</th>\n",
       "      <th>...</th>\n",
       "      <th>WG__NNW</th>\n",
       "      <th>WG__NW</th>\n",
       "      <th>WG__S</th>\n",
       "      <th>WG__SE</th>\n",
       "      <th>WG__SSE</th>\n",
       "      <th>WG__SSW</th>\n",
       "      <th>WG__SW</th>\n",
       "      <th>WG__W</th>\n",
       "      <th>WG__WNW</th>\n",
       "      <th>WG__WSW</th>\n",
       "    </tr>\n",
       "  </thead>\n",
       "  <tbody>\n",
       "    <tr>\n",
       "      <th>MinTemp</th>\n",
       "      <td>1.000000</td>\n",
       "      <td>0.728839</td>\n",
       "      <td>0.103662</td>\n",
       "      <td>0.159207</td>\n",
       "      <td>0.150617</td>\n",
       "      <td>0.146055</td>\n",
       "      <td>-0.218231</td>\n",
       "      <td>0.026853</td>\n",
       "      <td>-0.448201</td>\n",
       "      <td>0.898762</td>\n",
       "      <td>...</td>\n",
       "      <td>-0.068449</td>\n",
       "      <td>-0.064436</td>\n",
       "      <td>0.004685</td>\n",
       "      <td>0.075911</td>\n",
       "      <td>0.030782</td>\n",
       "      <td>-0.014416</td>\n",
       "      <td>-0.055361</td>\n",
       "      <td>-0.091287</td>\n",
       "      <td>-0.057831</td>\n",
       "      <td>-0.074506</td>\n",
       "    </tr>\n",
       "    <tr>\n",
       "      <th>MaxTemp</th>\n",
       "      <td>0.728839</td>\n",
       "      <td>1.000000</td>\n",
       "      <td>-0.077101</td>\n",
       "      <td>0.056600</td>\n",
       "      <td>-0.006292</td>\n",
       "      <td>0.013768</td>\n",
       "      <td>-0.517202</td>\n",
       "      <td>-0.497685</td>\n",
       "      <td>-0.411405</td>\n",
       "      <td>0.884876</td>\n",
       "      <td>...</td>\n",
       "      <td>-0.028845</td>\n",
       "      <td>-0.027802</td>\n",
       "      <td>-0.050501</td>\n",
       "      <td>0.050964</td>\n",
       "      <td>-0.000724</td>\n",
       "      <td>-0.051848</td>\n",
       "      <td>-0.063577</td>\n",
       "      <td>-0.103456</td>\n",
       "      <td>-0.052757</td>\n",
       "      <td>-0.080231</td>\n",
       "    </tr>\n",
       "    <tr>\n",
       "      <th>Rainfall</th>\n",
       "      <td>0.103662</td>\n",
       "      <td>-0.077101</td>\n",
       "      <td>1.000000</td>\n",
       "      <td>0.130748</td>\n",
       "      <td>0.085710</td>\n",
       "      <td>0.060698</td>\n",
       "      <td>0.238867</td>\n",
       "      <td>0.259779</td>\n",
       "      <td>-0.126186</td>\n",
       "      <td>0.007212</td>\n",
       "      <td>...</td>\n",
       "      <td>-0.015271</td>\n",
       "      <td>-0.004139</td>\n",
       "      <td>0.028397</td>\n",
       "      <td>0.009212</td>\n",
       "      <td>0.010996</td>\n",
       "      <td>0.019397</td>\n",
       "      <td>0.009130</td>\n",
       "      <td>0.012771</td>\n",
       "      <td>0.007014</td>\n",
       "      <td>0.013425</td>\n",
       "    </tr>\n",
       "    <tr>\n",
       "      <th>WindGustSpeed</th>\n",
       "      <td>0.159207</td>\n",
       "      <td>0.056600</td>\n",
       "      <td>0.130748</td>\n",
       "      <td>1.000000</td>\n",
       "      <td>0.589801</td>\n",
       "      <td>0.679282</td>\n",
       "      <td>-0.183615</td>\n",
       "      <td>-0.020737</td>\n",
       "      <td>-0.399600</td>\n",
       "      <td>0.124701</td>\n",
       "      <td>...</td>\n",
       "      <td>0.015731</td>\n",
       "      <td>0.060625</td>\n",
       "      <td>0.013765</td>\n",
       "      <td>-0.033361</td>\n",
       "      <td>-0.016850</td>\n",
       "      <td>0.000351</td>\n",
       "      <td>-0.002001</td>\n",
       "      <td>0.082461</td>\n",
       "      <td>0.087569</td>\n",
       "      <td>0.041148</td>\n",
       "    </tr>\n",
       "    <tr>\n",
       "      <th>WindSpeed9am</th>\n",
       "      <td>0.150617</td>\n",
       "      <td>-0.006292</td>\n",
       "      <td>0.085710</td>\n",
       "      <td>0.589801</td>\n",
       "      <td>1.000000</td>\n",
       "      <td>0.499428</td>\n",
       "      <td>-0.221299</td>\n",
       "      <td>-0.017649</td>\n",
       "      <td>-0.150304</td>\n",
       "      <td>0.089433</td>\n",
       "      <td>...</td>\n",
       "      <td>-0.027622</td>\n",
       "      <td>-0.017844</td>\n",
       "      <td>0.032703</td>\n",
       "      <td>0.025787</td>\n",
       "      <td>0.039487</td>\n",
       "      <td>-0.002207</td>\n",
       "      <td>-0.019593</td>\n",
       "      <td>0.016233</td>\n",
       "      <td>0.013076</td>\n",
       "      <td>-0.011306</td>\n",
       "    </tr>\n",
       "  </tbody>\n",
       "</table>\n",
       "<p>5 rows × 57 columns</p>\n",
       "</div>"
      ],
      "text/plain": [
       "                MinTemp   MaxTemp  Rainfall  WindGustSpeed  WindSpeed9am  \\\n",
       "MinTemp        1.000000  0.728839  0.103662       0.159207      0.150617   \n",
       "MaxTemp        0.728839  1.000000 -0.077101       0.056600     -0.006292   \n",
       "Rainfall       0.103662 -0.077101  1.000000       0.130748      0.085710   \n",
       "WindGustSpeed  0.159207  0.056600  0.130748       1.000000      0.589801   \n",
       "WindSpeed9am   0.150617 -0.006292  0.085710       0.589801      1.000000   \n",
       "\n",
       "               WindSpeed3pm  Humidity9am  Humidity3pm  Pressure3pm   Temp9am  \\\n",
       "MinTemp            0.146055    -0.218231     0.026853    -0.448201  0.898762   \n",
       "MaxTemp            0.013768    -0.517202    -0.497685    -0.411405  0.884876   \n",
       "Rainfall           0.060698     0.238867     0.259779    -0.126186  0.007212   \n",
       "WindGustSpeed      0.679282    -0.183615    -0.020737    -0.399600  0.124701   \n",
       "WindSpeed9am       0.499428    -0.221299    -0.017649    -0.150304  0.089433   \n",
       "\n",
       "               ...   WG__NNW    WG__NW     WG__S    WG__SE   WG__SSE  \\\n",
       "MinTemp        ... -0.068449 -0.064436  0.004685  0.075911  0.030782   \n",
       "MaxTemp        ... -0.028845 -0.027802 -0.050501  0.050964 -0.000724   \n",
       "Rainfall       ... -0.015271 -0.004139  0.028397  0.009212  0.010996   \n",
       "WindGustSpeed  ...  0.015731  0.060625  0.013765 -0.033361 -0.016850   \n",
       "WindSpeed9am   ... -0.027622 -0.017844  0.032703  0.025787  0.039487   \n",
       "\n",
       "                WG__SSW    WG__SW     WG__W   WG__WNW   WG__WSW  \n",
       "MinTemp       -0.014416 -0.055361 -0.091287 -0.057831 -0.074506  \n",
       "MaxTemp       -0.051848 -0.063577 -0.103456 -0.052757 -0.080231  \n",
       "Rainfall       0.019397  0.009130  0.012771  0.007014  0.013425  \n",
       "WindGustSpeed  0.000351 -0.002001  0.082461  0.087569  0.041148  \n",
       "WindSpeed9am  -0.002207 -0.019593  0.016233  0.013076 -0.011306  \n",
       "\n",
       "[5 rows x 57 columns]"
      ]
     },
     "execution_count": 68,
     "metadata": {},
     "output_type": "execute_result"
    }
   ],
   "source": [
    "#correlation matrix \n",
    "new_df.corr().head()"
   ]
  },
  {
   "cell_type": "code",
   "execution_count": 143,
   "metadata": {
    "hidden": true,
    "scrolled": false
   },
   "outputs": [
    {
     "data": {
      "image/png": "[encoded data removed]",
      "text/plain": [
       "<Figure size 432x288 with 1 Axes>"
      ]
     },
     "metadata": {
      "needs_background": "light"
     },
     "output_type": "display_data"
    }
   ],
   "source": [
    "#plot feature against target to see how well a feature \"separates\" the classes\n",
    "#how would you do this for a categorical variable like RainToday\n",
    "fig, ax = plt.subplots()\n",
    "ax.scatter(new_df['RISK_MM'], df.RainTomorrow)\n",
    "plt.show()"
   ]
  },
  {
   "cell_type": "code",
   "execution_count": null,
   "metadata": {},
   "outputs": [],
   "source": []
  },
  {
   "cell_type": "markdown",
   "metadata": {
    "hidden": true
   },
   "source": [
    "What additional EDA can we do?"
   ]
  },
  {
   "cell_type": "markdown",
   "metadata": {
    "heading_collapsed": true
   },
   "source": [
    "##### Modeling"
   ]
  },
  {
   "cell_type": "code",
   "execution_count": 70,
   "metadata": {
    "hidden": true
   },
   "outputs": [],
   "source": [
    "from sklearn.model_selection import train_test_split"
   ]
  },
  {
   "cell_type": "code",
   "execution_count": 86,
   "metadata": {
    "hidden": true
   },
   "outputs": [],
   "source": [
    "#first model uses only pressure at 3p to predict whethter it will rain tomrorow\n",
    "#can you improve it? \n",
    "X = new_df[['Pressure3pm', 'Humidity3pm',\n",
    "       'W9__ENE', 'W9__ESE', 'W9__N', 'W9__NE', 'W9__NNE',\n",
    "       'W9__NNW', 'W9__NW', 'W9__S', 'W9__SE', 'W9__SSE', 'W9__SSW', 'W9__SW',\n",
    "       'W9__W', 'W9__WNW', 'W9__WSW', 'W3__ENE', 'W3__ESE', 'W3__N', 'W3__NE',\n",
    "       'W3__NNE', 'W3__NNW', 'W3__NW', 'W3__S', 'W3__SE', 'W3__SSE', 'W3__SSW',\n",
    "       'W3__SW', 'W3__W', 'W3__WNW', 'W3__WSW', 'WG__ENE', 'WG__ESE', 'WG__N',\n",
    "       'WG__NE', 'WG__NNE', 'WG__NNW', 'WG__NW', 'WG__S', 'WG__SE', 'WG__SSE',\n",
    "       'WG__SSW', 'WG__SW', 'WG__W', 'WG__WNW', 'WG__WSW']]\n",
    "y = new_df['RainTomorrow']"
   ]
  },
  {
   "cell_type": "code",
   "execution_count": 153,
   "metadata": {
    "hidden": true
   },
   "outputs": [],
   "source": [
    "#train_test_littttttt\n",
    "X_train, X_test, y_train, y_test = train_test_split(X, y, test_size=0.33, random_state=42)"
   ]
  },
  {
   "cell_type": "code",
   "execution_count": 154,
   "metadata": {
    "hidden": true
   },
   "outputs": [],
   "source": [
    "#initialize our model\n",
    "log_reg_rain = LogisticRegression(max_iter=1000)"
   ]
  },
  {
   "cell_type": "code",
   "execution_count": 155,
   "metadata": {
    "hidden": true,
    "scrolled": true
   },
   "outputs": [
    {
     "name": "stderr",
     "output_type": "stream",
     "text": [
      "/Users/ramavni/anaconda3/lib/python3.7/site-packages/sklearn/linear_model/logistic.py:433: FutureWarning: Default solver will be changed to 'lbfgs' in 0.22. Specify a solver to silence this warning.\n",
      "  FutureWarning)\n"
     ]
    },
    {
     "data": {
      "text/plain": [
       "LogisticRegression(C=1.0, class_weight=None, dual=False, fit_intercept=True,\n",
       "          intercept_scaling=1, max_iter=1000, multi_class='warn',\n",
       "          n_jobs=None, penalty='l2', random_state=None, solver='warn',\n",
       "          tol=0.0001, verbose=0, warm_start=False)"
      ]
     },
     "execution_count": 155,
     "metadata": {},
     "output_type": "execute_result"
    }
   ],
   "source": [
    "#fit our model with our training data\n",
    "log_reg_rain.fit(X_train,y_train)"
   ]
  },
  {
   "cell_type": "code",
   "execution_count": 90,
   "metadata": {
    "hidden": true
   },
   "outputs": [],
   "source": [
    "predictions = log_reg_rain.predict(X_test)"
   ]
  },
  {
   "cell_type": "code",
   "execution_count": 91,
   "metadata": {
    "hidden": true
   },
   "outputs": [],
   "source": [
    "from sklearn.metrics import accuracy_score"
   ]
  },
  {
   "cell_type": "code",
   "execution_count": 92,
   "metadata": {
    "hidden": true,
    "scrolled": true
   },
   "outputs": [
    {
     "data": {
      "text/plain": [
       "0.8293827425323108"
      ]
     },
     "execution_count": 92,
     "metadata": {},
     "output_type": "execute_result"
    }
   ],
   "source": [
    "#how well did our model predict our correct class? \n",
    "accuracy_score(y_test, predictions)"
   ]
  },
  {
   "cell_type": "code",
   "execution_count": null,
   "metadata": {
    "hidden": true
   },
   "outputs": [],
   "source": []
  }
 ],
 "metadata": {
  "kernelspec": {
   "display_name": "Python 3",
   "language": "python",
   "name": "python3"
  },
  "language_info": {
   "codemirror_mode": {
    "name": "ipython",
    "version": 3
   },
   "file_extension": ".py",
   "mimetype": "text/x-python",
   "name": "python",
   "nbconvert_exporter": "python",
   "pygments_lexer": "ipython3",
   "version": "3.7.3"
  }
 },
 "nbformat": 4,
 "nbformat_minor": 2
}
